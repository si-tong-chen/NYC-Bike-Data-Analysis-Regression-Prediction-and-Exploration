{
 "cells": [
  {
   "cell_type": "markdown",
   "id": "9eafd782",
   "metadata": {},
   "source": [
    "# NYC Bike Data Analysis, Regression Prediction and Exploration\n"
   ]
  },
  {
   "cell_type": "markdown",
   "id": "ee57a1a6",
   "metadata": {},
   "source": [
    "## **Abstract**"
   ]
  },
  {
   "cell_type": "markdown",
   "id": "c80c3ed9",
   "metadata": {},
   "source": [
    "We utilized data from [NYC Citi Bike](https://citibikenyc.com/system-data), one of the largest station-based bike-sharing systems in the United States. Our analysis includes data from the year 2018 for data analysis and regression prediction, while data from 2018, 2019, and 2020 were used for data exploration through the CNN model.\n",
    "\n",
    "The dataset from each year comprises more than 900 stations and 14,000 bikes, totaling over 17 million observed bike rides. The primary objective of this dataset is to optimize City Bike's operations and make bike sharing more appealing.\n",
    "\n",
    "This article is structured into three sections. We began with a concise analysis and visualization of the data, with a specific focus on constructing regression models. Following that, we transitioned into the exploratory phase of the CNN model, utilizing data from 2018, 2019, and 2020 to delve deeper into the insights and patterns.\n",
    "\n"
   ]
  },
  {
   "cell_type": "markdown",
   "id": "1383c309",
   "metadata": {},
   "source": [
    "\n",
    "\n",
    "##### **Section 1 Introduction + Data Analysis and Visualization**\n",
    "\n",
    "We preprocessed data before clustering and generating interactive images for basic data analysis.\n",
    "\n",
    "##### **Section 2 the Prediction Challenge**\n",
    "\n",
    "We continued to work with the dataset, incorporating weather data. Based on XGBoost, we built three models:\n",
    "- \"Regression for Departures\"\n",
    "- \"Regression for Arrivals\"\n",
    "- \"Regression for Demand of the Bike\"\n",
    "  \n",
    "All these models achieved a R-squared value greater than 0.7.\n",
    "\n",
    "##### **Section 3 Exploratory Component**\n",
    "\n",
    "We expanded the results of the \"Regression for Demand of the Bike\" model and created three visualizations from Section 1. \n",
    "\n",
    "The focus was predicting the daily probability of bike demands for each cluster, with the aim of optimizing bike distribution. \n",
    "\n",
    "We collected data from 2019 and 2020, and plotted bike borrowing and returning patterns over 1095 days. \n",
    "\n",
    "Hence we constructed a CNN model based on a pre-trained 'ResNet-50 model'. The final model performed well with a test loss of 0.001168.\n",
    "\n",
    "#### **Note** \n",
    "Each section's \"Brief Introduction\" corresponding to the local numbered code blocks.\n"
   ]
  },
  {
   "cell_type": "markdown",
   "id": "0c797069",
   "metadata": {},
   "source": [
    "## 1 .  Introduction + Data Analysis and Visualization"
   ]
  },
  {
   "cell_type": "markdown",
   "id": "e8b76498",
   "metadata": {},
   "source": [
    "#### **Brief Introduction**\n",
    "\n",
    "\n",
    "**1.1 Processing data before clustering (codes in the the data_utils.py)**\n",
    "1. Transform date to datetime\n",
    "\n",
    "2. Coping with NAN     \n",
    "\n",
    "3. Adding the duration minutes/ the time interval/ month/start_day/end_day in dat base\n",
    "\n",
    "4. Adding weekday/ starttime y_m_d/ one-hot usertype\n",
    "\n",
    "**1.2 Visualization**\n",
    "1. Gender Distribution with Different Usertypes\n",
    "\n",
    "2. Riding Period in the Dataset\n",
    "\n",
    "3. The top 10 Stations with the most daily bike traffic in August v.s. daily cycling volumn（the volume in August is the largerst）\n",
    "\n",
    "  \n",
    "\n",
    "\n",
    "\n",
    "\n",
    "##### ***NOTE:*** *Information about the Module 'data_utils'*\n",
    "1. The module 'data_utils' includes the methods of processing the data (before clustering and after clustering) and the methods of processing images (Exploratory component)\n",
    "\n",
    "2. When you want to run this script, please download. It is in the same folder with this .ipynb file\n",
    "\n",
    "3. The format of picture 3 is **.html** and it is interactive. But it is a screen shot in this part. You can download [*raw document*](https://github.com/si-tong-chen/NYC-Bike-Data-Analysis-Regression-Prediction-and-Exploration/tree/main/interactive_graph)\n"
   ]
  },
  {
   "cell_type": "markdown",
   "id": "c7f8623e",
   "metadata": {},
   "source": [
    "### **Conclusion**\n",
    "\n",
    "\n",
    "In this section, we conducted initial data processing, including time format conversion, NaN value handling, extraction of potentially useful information, and preliminary exploratory analysis with interactive visualizations, all aimed at aiding subsequent modeling and analysis.\n",
    "\n",
    "Our macro-level analysis resulted in Figures 1 and 2. Figure 1 revealed that male cyclists are more than females since 2018, especially most of riders were subscriber. The result suggested a need to boost female ridership and conversion rate of non-subscribers. Figure 2 indicates that most rides last 0-30 minutes, showing potential optimization of bike station placements for future supply.\n",
    "\n",
    "Narrow down to the data of August. In August, we have the most customers over the year. We analyzed daily trends at the top 10 stations and showed the result with an interactive graph. Notably, the lowest ridership appeared on the 11th and 13th, and the highest was on the 25th. This visualization laid the ground for our next exploration of daily rental patterns based on borrow and return data.\n",
    "\n",
    "\n"
   ]
  },
  {
   "cell_type": "markdown",
   "id": "125bf351",
   "metadata": {},
   "source": [
    "### 1.1 Processing Data Before Clustering (Codes in the the data_utils.py)"
   ]
  },
  {
   "cell_type": "code",
   "execution_count": null,
   "id": "76de5a96-daba-404d-abe5-1b651e413039",
   "metadata": {},
   "outputs": [],
   "source": [
    "#processing data before clustering includes\n",
    "df = pd.read_csv('Trips_2018.csv')\n",
    "df.drop('Unnamed: 0', axis=1, inplace=True)\n",
    "data_processor = data_utils.processingData(df)\n",
    "df= data_processor.processingData_before_cluster()\n",
    "df['distance'] = df.apply(\n",
    "    lambda row: data_utils.get_distance(row['start_station_latitude'], row['start_station_longitude'], \n",
    "                             row['end_station_latitude'], row['end_station_longitude']), axis=1)\n",
    "# there are some wrong distance in here, due to wrong latitude and longitude, we delete them\n",
    "print('The precentage of NAN of distacne:',df.isna().sum()[-1]/len(df)) \n",
    "df.dropna(inplace=True)\n",
    "print('The precentage of NAN of distacne after discarding:',df.isna().sum()[-1]/len(df))\n",
    "with open('data.pickle', 'wb') as f:\n",
    "    pickle.dump(df, f)\n",
    "with open('data.pickle', 'rb') as f:\n",
    "    data = pickle.load(f)"
   ]
  },
  {
   "cell_type": "markdown",
   "id": "c79288ce",
   "metadata": {},
   "source": [
    "### 1.2 Visualization"
   ]
  },
  {
   "cell_type": "markdown",
   "id": "ecf222ae",
   "metadata": {},
   "source": [
    "####  1.2.1 Plot about 'Gender Distribution with Different Usertype'"
   ]
  },
  {
   "cell_type": "code",
   "execution_count": null,
   "id": "29eb2092",
   "metadata": {},
   "outputs": [],
   "source": [
    "group1=[]\n",
    "group2=[]\n",
    "for i in range(3):\n",
    "    group1.append(len(data.groupby(['usertype', 'gender']).get_group((1, i)))) #1 is 'Subscriber'\n",
    "    group2.append(len(data.groupby(['usertype', 'gender']).get_group((0, i)))) #0 is 'Customer'\n",
    "categories = ['Unkown', 'Male', 'Female']\n",
    "source = ColumnDataSource(data={'categories': categories, 'group1': group1, 'group2': group2})\n",
    "output_notebook()\n",
    "p = figure(x_range=categories, plot_height=350, title=\"Gender Distribution with Different Usertype\", toolbar_location=None, tools=\"\")\n",
    "colors = ['#1f77b4', '#ff7f0e', '#2ca02c', '#d62728']\n",
    "p.vbar(x='categories', top='group1', width=0.4, source=source, color=colors[0], legend_label=\"Subscriber\")\n",
    "p.vbar(x='categories', top='group2', width=0.4, source=source, color=colors[1], legend_label=\"Customer\")\n",
    "hover = HoverTool()\n",
    "hover.tooltips = [(\"Category\", \"@categories\"), (\"Subscriber\", \"@group1\"), (\"Customer\", \"@group2\")]\n",
    "p.add_tools(hover)\n",
    "p.xgrid.grid_line_color = None\n",
    "p.yaxis.formatter = NumeralTickFormatter(format=\"0,0\")\n",
    "p.legend.title = \"Groups\"\n",
    "show(p)"
   ]
  },
  {
   "cell_type": "markdown",
   "id": "2f75b610",
   "metadata": {},
   "source": [
    "|                    |\n",
    "|:-------------------:|\n",
    "| <p align=\"center\"><img src=\"image/gender dis.png\" alt=\"Image\" width=\"500\" height=\"333\"></p> "
   ]
  },
  {
   "cell_type": "markdown",
   "id": "2bec7467",
   "metadata": {},
   "source": [
    "#### 1.2.2 Riding Period in the Dataset"
   ]
  },
  {
   "cell_type": "code",
   "execution_count": null,
   "id": "fad875e1",
   "metadata": {},
   "outputs": [],
   "source": [
    "categories = ['(0, 30]', '(30, 60]', '(60, 90]', '(90, 120]', '(120, 150]','(150,180]','(180, 325227]']\n",
    "values = data['duration_bin'].value_counts(sort = False)\n",
    "sns.set(style=\"whitegrid\")\n",
    "plt.figure(figsize=(8, 6))\n",
    "sns.barplot(x=values, y=categories, palette=\"viridis\")\n",
    "plt.xlabel(\"Values\")\n",
    "plt.ylabel(\"Duration\")\n",
    "plt.title(\"Riding Period\")\n",
    "plt.show()"
   ]
  },
  {
   "cell_type": "markdown",
   "id": "6f6327a6",
   "metadata": {},
   "source": [
    "|                    |\n",
    "|:-------------------:|\n",
    "| <p align=\"center\"><img src=\"image/ridingperiod.png\" alt=\"Image\" width=\"500\" height=\"333\"></p> "
   ]
  },
  {
   "cell_type": "markdown",
   "id": "22f17e5c",
   "metadata": {},
   "source": [
    "#### 1.2.3 Plots of the top 10 stations with the most daily bike traffic in August vs the daily cycling volume（the volume in August is the largest）"
   ]
  },
  {
   "cell_type": "code",
   "execution_count": 5,
   "id": "bb6653e2",
   "metadata": {},
   "outputs": [],
   "source": [
    "data_August = data[data.month == 8]\n",
    "\n",
    "new_data_August= data_August.start_station_id.value_counts().reset_index()\n",
    "new_data_August.columns = ['start_station_id', 'Count']\n",
    "start_station_id_10 = new_data_August.start_station_id[0:10]\n",
    "table = pd.DataFrame()\n",
    "for i in range(10):\n",
    "    a= []\n",
    "    for j in range(31):\n",
    "        a.append(len(data_August.groupby(['start_day', 'start_station_id']).get_group((j+1,start_station_id_10[i]))))\n",
    "\n",
    "    b = pd.DataFrame(a)  \n",
    "    table =  pd.concat([table,b],axis = 1)\n",
    "    \n",
    "names = ['s519','s497','s426','s402','s514','s435','s285','s281','s459','s3225']\n",
    "table.set_axis(names,axis='columns',inplace=True)\n",
    "date = np.arange(1, 32)\n",
    "table.insert(0, 'date', date)\n",
    "# calculate the sum of duration per day in August \n",
    "list_sum = []\n",
    "for i in range(31):\n",
    "    list_sum.append(data_August.groupby('start_day').get_group(i+1)['duration_mintues'].sum())\n",
    "list_sum = pd.DataFrame(list_sum)\n",
    "list_sum.insert(0, 'date', date)\n",
    "list_sum.set_axis(['date','line_values'],axis='columns',inplace=True)\n",
    "\n",
    "dates = ['1','2','3','4','5','6','7','8','9','10','11','12','13','14','15','16','17','18','19',\n",
    "        '20','21','22','23','24','25','26','27','28','29','30','31']\n",
    "source_df = ColumnDataSource(table)\n",
    "source_df1 = ColumnDataSource(list_sum)\n",
    "p= figure(title=\" plot about The top 10 stations with the most daily bike traffic in August vs the total duration time per day\",x_range = dates,plot_width = 1200, plot_height = 600)\n",
    "bar ={} \n",
    "for i in range(10):\n",
    "    bar[i] = p.vbar(x='date',top=names[i], source= source_df,muted_alpha=0.05, muted = True,color=cividis(10)[i]) \n",
    "p.y_range = Range1d(start=0, end=800)\n",
    "p.yaxis.axis_label = \"Bar Chart Values\"\n",
    "p.extra_y_ranges = {\"right_y\": Range1d(start=600000, end=1400000)}\n",
    "p.add_layout(LinearAxis(y_range_name=\"right_y\", axis_label=\"Line Chart Values\"), 'right')\n",
    "line = p.line(x='date', y='line_values', source=source_df1, line_color=\"blue\", line_width=2,y_range_name=\"right_y\")    \n",
    "items = [] \n",
    "for i in range(10):\n",
    "    items.append((names[i], [bar[i]]))\n",
    "items.append((\"Line\", [line]))\n",
    "legend = Legend(items=items)\n",
    "p.add_layout(legend, 'left')\n",
    "p.legend.click_policy=\"mute\" \n",
    "show(p)"
   ]
  },
  {
   "cell_type": "markdown",
   "id": "61c151e9",
   "metadata": {},
   "source": [
    "|                    |\n",
    "|:-------------------:|\n",
    "| <p align=\"center\"><img src=\"image/top10.png\" alt=\"Image\" width=\"700\" height=\"333\"></p> "
   ]
  },
  {
   "cell_type": "markdown",
   "id": "8a814014",
   "metadata": {},
   "source": [
    "## 2. Prediction Challenge\n"
   ]
  },
  {
   "cell_type": "markdown",
   "id": "867a951d",
   "metadata": {},
   "source": [
    "\n",
    "#### **Brief Introduction**\n",
    "\n",
    "\n",
    "**2.1 Finding the Best K and Clustering the Data**\n",
    "\n",
    "1. We replace GPU with CPU to calculate in order to find the best number of k using elbow method\n",
    "\n",
    "2. We do not put the coding of gpu in here, but we have a plot to show how we confirmed the best k that in this folder\n",
    "\n",
    "3. We find that the best K is ***62***  and cluster number is K=62\n",
    "\n",
    "**2.2 Processing Data After Clustering (in the data_utils.py)**\n",
    "1. adding hour/ is_weekend/ is_holiday/ season/\n",
    "\n",
    "2. **Creating the Real Label for Model**\n",
    "\n",
    "3. Setting label: m_d_h(month_day_hour)\n",
    "\n",
    "\n",
    "**2.3 Weather Data**\n",
    "1. 'TAvg'is average temperature, 'TMAX' is max temperature, 'TMIN' is min temperature\n",
    "\n",
    "2. 'DPAvg' is the average dew point,\n",
    "\n",
    "3. 'HumidityAvg' is the average humidity,\n",
    "\n",
    "4. 'WindSpeedAvg'is average windspeed, 'Precipitation ' is precipitation\n",
    "\n",
    "5. 'SNWD' is snow depth, 'SNOW' is snow\n",
    "\n",
    "6. 'lagged_1_temperature' is temperature lagged by 1 time step\n",
    "\n",
    "7. 'lagged_1_Precipitation' is precipitation lagged by 1-time step\n",
    "\n",
    "8. 'lagged_1_SNWD'and 'lagged_2_SNWD' are snow depth by 1-time step and 2-time step respectively\n",
    "\n",
    "\n",
    "**2.4 Building the Model,Find tuning and Evaluating**\n",
    "1. We only use the **XGBoost** model in here, use R-Squared to evaluate model\n",
    "\n",
    "2. The workflow of model will be shown in another part\n",
    "\n",
    "2. R2 for regression departures model is ***0.7123***, for regression arrivals model is ***0.728***, for regression demand of bike model is ***0,848***\n",
    "\n",
    "2. Using random search to achieve parameters tunning to get the best parameters (We don't show in this scripts,we put this moduel with this script in the same zip)\n",
    "\n",
    "\n",
    "\n"
   ]
  },
  {
   "cell_type": "markdown",
   "id": "a9e8729b",
   "metadata": {},
   "source": [
    "### **Modeling Process**\n",
    "\n",
    "##### **For building both the \"Regression for Departures\" and \"Regression for Arrivals\" models**\n",
    "\n",
    "**Step 1:** Generating Real Labels\n",
    "\n",
    "Initially, we create real labels based on clusters and time intervals. For departures, this involves starting time intervals, while for arrivals, it involves arrival time intervals. We categorize the data based on these two dimensions: clusters and hourly time intervals. Subsequently, we map the generated data back to the original dataset.\n",
    "\n",
    "**Step 2:** Data Splitting\n",
    "\n",
    "The data is splitted according to the requirement, with data from January to October served as the training dataset, and data from November and December served as the testing dataset.\n",
    "\n",
    "**Step 3:** Feature Selection\n",
    "\n",
    "The selection of features is based on subjective judgement and relevance to the problem. Notably, weather data is identified as particularly crucial. In cases where weather data is not included, the R-squared value hovers around 0.21.\n",
    "\n",
    "**Step 4:** Model Training and Evaluation\n",
    "\n",
    "##### **For establishing the \"Regression for Demand of the Bike\" model**\n",
    "\n",
    "**Step 1:**\n",
    "\n",
    "Initially, we predict the demands separately based on the \"Regression for Departures\" and \"Regression for Arrivals\" models.\n",
    "Based on these predictions, we calculate our true labels by subtracting the departure predictions from the arrival predictions.\n",
    "\n",
    "**Step 2:**\n",
    "\n",
    "In the next step, we eliminate duplicate data to prevent data leakage. This is essential because we are dealing with hourly time intervals, and duplicates may occur when the starting station, ending station, start time interval, and end time interval are all the same. To address this, we use these four criteria as the basis for deduplication.\n",
    "\n",
    "**Step 3:**\n",
    "\n",
    "The following steps involve feature selection, model training, model evaluation, and model usage.\n",
    "Regarding model usage, we extract data from December 31, 2018, to predict data for January 1, 2019。\n",
    "\n",
    "\n",
    "\n",
    "\n",
    "\n",
    "\n",
    "\n",
    "\n",
    "\n",
    "\n"
   ]
  },
  {
   "cell_type": "markdown",
   "id": "623a6d30",
   "metadata": {},
   "source": [
    "### **Conclusion**\n",
    "All of our models have an R-squared (R2) value exceeding 0.6, making them suitable for prediction. The R2 values for each model are as follows:\n",
    "\n",
    "- R2 for the \"Regression for Departures\" model is 0.712.\n",
    "\n",
    "- R2 for the \"Regression for Arrivals\" model is 0.728.\n",
    "\n",
    "- R2 for the \"Regression for Demand of Bike\" model is 0.848.\n",
    "\n",
    "However, there is still room for improvement based on R2 and Mean Squared Error (MSE). We will continue to search for variables that influence the models, aiming to enhance their performance.\n",
    "\n"
   ]
  },
  {
   "cell_type": "markdown",
   "id": "241c2552",
   "metadata": {},
   "source": [
    "### 2.1 Find the Best K and Clustering Data"
   ]
  },
  {
   "cell_type": "code",
   "execution_count": null,
   "id": "f81a350e",
   "metadata": {},
   "outputs": [],
   "source": [
    "features = ['start_station_latitude','start_station_longitude']\n",
    "data_cluster = data[features]\n",
    "## normalization\n",
    "scaler = MinMaxScaler()\n",
    "data_cluster_normal = scaler.fit_transform(data_cluster)"
   ]
  },
  {
   "cell_type": "code",
   "execution_count": null,
   "id": "0e70bd45",
   "metadata": {},
   "outputs": [],
   "source": [
    "# b is the result from the calculation in GPU\n",
    "b= [56622.365427364246, 47979.53530339518, 41787.08163688338, 37262.813299243055, 32557.68493654768, 30042.964783099244, 27313.618662419856, 25613.678781443632, 23369.14418800023,\n",
    "    21453.62601248043, 21056.42707001579, 19781.43223720497, 17722.870738302798, 16873.663431918005, 15877.313851389628, 14751.164241093124, 14624.53120721362, 13628.058945102224, \n",
    "    13029.322320268751, 12470.10997345978, 12146.477918915672, 11371.763087782265, 11072.75020001915, 10659.188421675202, 10257.819083374443, 9776.44986720446, 9551.28567401801,\n",
    "    9300.288724443395, 9041.82575622006, 8855.013577532161, 8359.871413040855, 8127.161704164806, 8074.445366856517, 7648.709323108851, 7465.018762810978, 6944.859803586931, \n",
    "    6743.664171278853,6695.356291343014, 6361.057949021775,6275.974078681567, 6168.285359188403, 6009.835980760789, 5873.42660082735, 5658.299224367697, 5493.570047399132, \n",
    "    5468.760266932088, 5319.879776503464, 5056.601929305876, 4974.3564858223035, 4830.6601633176215, 4693.688228033944, 4579.152046144666, 4466.886369260277, 4343.915386149615, \n",
    "    4201.46131964157, 4173.927890139498, 4064.871340561522,3993.424602274575, 3848.756282618467, 3782.423184101248, 3793.103666830548]\n",
    "    \n",
    "a = np.arange(20,203,3)\n",
    "plt.plot(a, b,linewidth=2.5)\n",
    "plt.scatter(a[16], b[16], color='red', label='K = 62')\n",
    "plt.xlabel('Number of clusters (K)')\n",
    "plt.ylabel('SSE')\n",
    "plt.title('Elbow Method for Optimal K')\n",
    "plt.legend()\n",
    "plt.show()"
   ]
  },
  {
   "cell_type": "markdown",
   "id": "395b2df0",
   "metadata": {},
   "source": [
    "|                    |\n",
    "|:-------------------:|\n",
    "| <p align=\"center\"><img src=\"image/clusterK.png\" alt=\"Image\" width=\"500\" height=\"333\"></p> "
   ]
  },
  {
   "cell_type": "code",
   "execution_count": null,
   "id": "eb942c1c",
   "metadata": {},
   "outputs": [],
   "source": [
    "## using kmeans and K = 62\n",
    "kmeans = KMeans(n_clusters=62,max_iter=10000, init=\"k-means++\", tol=1e-6)\n",
    "result = kmeans.fit(data_cluster_normal )\n",
    "label = kmeans.labels_\n",
    "data[\"cluster_label\"] = label \n",
    "data_cluster = data"
   ]
  },
  {
   "cell_type": "markdown",
   "id": "4bcaa080",
   "metadata": {},
   "source": [
    "### 2.2 Processing Data After Cluster"
   ]
  },
  {
   "cell_type": "code",
   "execution_count": null,
   "id": "5462e92b-f60b-40d3-b1b7-154148de1790",
   "metadata": {},
   "outputs": [],
   "source": [
    "# processing data after clustering \n",
    "data_processor= data_utils.processingData(df)\n",
    "df=data_processor.processingData_after_cluster()"
   ]
  },
  {
   "cell_type": "markdown",
   "id": "d3c203bc",
   "metadata": {},
   "source": [
    "### 2.3 Adding weather data "
   ]
  },
  {
   "cell_type": "code",
   "execution_count": null,
   "id": "ed02427f",
   "metadata": {},
   "outputs": [],
   "source": [
    "## merge weather situation and data_cluster (SNWD is the snow depth)\n",
    "weather = pd.read_csv('weather_combine.csv')\n",
    "weather = weather[['DATE','TAvg','TMAX','TMIN','DPAvg','HumidityAvg','WindSpeedAvg','Precipitation ','SNWD','SNOW']]\n",
    "weather['DATE'] = pd.to_datetime(weather['DATE'], format='%Y/%m/%d')\n",
    "weather = weather.rename(columns={'DATE': 'startime_y_m_d'})\n",
    "weather['lagged_1_temperature'] = np.insert(np.array(weather['TAvg']), 0, 15.35)[:-1]\n",
    "weather['lagged_1_Precipitation'] = np.insert(np.array(weather['Precipitation ']),0,0)[:-1]\n",
    "weather['lagged_1_SNWD'] = np.insert(np.array(weather['SNWD']),0,0)[:-1]\n",
    "weather['lagged_2_SNWD'] = np.insert(np.array(weather['lagged_1_SNWD']),0,0)[:-1]\n",
    "model_data = pd.merge(data_cluster, weather, on=['startime_y_m_d'], how='left')\n",
    "with open('/Users/sitongchen/Desktop/42577 Introduction to Business Analytics/Project' + '/model_data.pickle', 'wb') as f:\n",
    "    pickle.dump(model_data, f)\n",
    "with open('model_data_0.719.pickle', 'rb') as f:\n",
    "    model_data = pickle.load(f)"
   ]
  },
  {
   "cell_type": "markdown",
   "id": "e6615492",
   "metadata": {},
   "source": [
    "### 2.4 Building the Model and Evaluating\n",
    "\n",
    "#### 2.4.1 Regression for Departures\n",
    "\n",
    "##### **Workflow of building model**\n",
    "1. Split the data into train and test.\n",
    "\n",
    "    * Data from Jan to Oct 2018 is train data\n",
    "   \n",
    "    * Data from Nov to Dec 2018 is test data\n",
    "\n",
    "\n",
    "2. Exact the Features\n",
    "\n",
    "3. Normalization, train model and evaluate model\n",
    "4. Applying to the whole data for predicting the demand of bike riding\n",
    "\n",
    "**Note:** Other models have the same workflow expect regression for demand of bike (It is shown in its part)\n",
    "\n"
   ]
  },
  {
   "cell_type": "markdown",
   "id": "a889f628-1f6b-405e-be94-e13ff9ec3956",
   "metadata": {},
   "source": [
    "##### 2.4.1.1 Split the Data into Train and Test "
   ]
  },
  {
   "cell_type": "code",
   "execution_count": 4,
   "id": "90fa213b",
   "metadata": {},
   "outputs": [],
   "source": [
    "# split the data into train data and test data. data from Jan to Oct is train data, others are test data\n",
    "# id max cluster \n",
    "idmax = model_data['cluster_label'].value_counts().idxmax()\n",
    "model_data_filter=model_data[model_data['cluster_label']==idmax]\n",
    "train_data =model_data_filter[~((model_data_filter['month'] == 12) | (model_data_filter['month'] == 11))]\n",
    "test_data = model_data_filter[((model_data_filter['month'] == 12) | (model_data_filter['month'] == 11))]"
   ]
  },
  {
   "cell_type": "markdown",
   "id": "2860889d-ea2a-454a-94b5-d89a0bbb1417",
   "metadata": {},
   "source": [
    "##### 2.4.1.2 Exact the Features"
   ]
  },
  {
   "cell_type": "code",
   "execution_count": 5,
   "id": "10debfc5",
   "metadata": {},
   "outputs": [],
   "source": [
    "# exact the features \n",
    "features  = ['is_weekend','is_holiday','starttime_hour','start_day','month','season','TAvg',\n",
    "             'lagged_1_temperature','Precipitation ','SNWD','SNOW','lagged_1_SNWD','lagged_2_SNWD','distance']\n",
    "X_train = train_data[features]\n",
    "y_train = train_data['count_start']\n",
    "X_test = test_data[features]\n",
    "y_test = test_data['count_start']"
   ]
  },
  {
   "cell_type": "markdown",
   "id": "371424a5-2bee-49dc-aae6-02614c3a0c80",
   "metadata": {},
   "source": [
    "##### 2.4.1.3 Normalization, Train the Model and Evaluate the Model "
   ]
  },
  {
   "cell_type": "code",
   "execution_count": 6,
   "id": "4aed50d6",
   "metadata": {},
   "outputs": [
    {
     "data": {
      "text/html": [
       "<style>#sk-container-id-1 {color: black;}#sk-container-id-1 pre{padding: 0;}#sk-container-id-1 div.sk-toggleable {background-color: white;}#sk-container-id-1 label.sk-toggleable__label {cursor: pointer;display: block;width: 100%;margin-bottom: 0;padding: 0.3em;box-sizing: border-box;text-align: center;}#sk-container-id-1 label.sk-toggleable__label-arrow:before {content: \"▸\";float: left;margin-right: 0.25em;color: #696969;}#sk-container-id-1 label.sk-toggleable__label-arrow:hover:before {color: black;}#sk-container-id-1 div.sk-estimator:hover label.sk-toggleable__label-arrow:before {color: black;}#sk-container-id-1 div.sk-toggleable__content {max-height: 0;max-width: 0;overflow: hidden;text-align: left;background-color: #f0f8ff;}#sk-container-id-1 div.sk-toggleable__content pre {margin: 0.2em;color: black;border-radius: 0.25em;background-color: #f0f8ff;}#sk-container-id-1 input.sk-toggleable__control:checked~div.sk-toggleable__content {max-height: 200px;max-width: 100%;overflow: auto;}#sk-container-id-1 input.sk-toggleable__control:checked~label.sk-toggleable__label-arrow:before {content: \"▾\";}#sk-container-id-1 div.sk-estimator input.sk-toggleable__control:checked~label.sk-toggleable__label {background-color: #d4ebff;}#sk-container-id-1 div.sk-label input.sk-toggleable__control:checked~label.sk-toggleable__label {background-color: #d4ebff;}#sk-container-id-1 input.sk-hidden--visually {border: 0;clip: rect(1px 1px 1px 1px);clip: rect(1px, 1px, 1px, 1px);height: 1px;margin: -1px;overflow: hidden;padding: 0;position: absolute;width: 1px;}#sk-container-id-1 div.sk-estimator {font-family: monospace;background-color: #f0f8ff;border: 1px dotted black;border-radius: 0.25em;box-sizing: border-box;margin-bottom: 0.5em;}#sk-container-id-1 div.sk-estimator:hover {background-color: #d4ebff;}#sk-container-id-1 div.sk-parallel-item::after {content: \"\";width: 100%;border-bottom: 1px solid gray;flex-grow: 1;}#sk-container-id-1 div.sk-label:hover label.sk-toggleable__label {background-color: #d4ebff;}#sk-container-id-1 div.sk-serial::before {content: \"\";position: absolute;border-left: 1px solid gray;box-sizing: border-box;top: 0;bottom: 0;left: 50%;z-index: 0;}#sk-container-id-1 div.sk-serial {display: flex;flex-direction: column;align-items: center;background-color: white;padding-right: 0.2em;padding-left: 0.2em;position: relative;}#sk-container-id-1 div.sk-item {position: relative;z-index: 1;}#sk-container-id-1 div.sk-parallel {display: flex;align-items: stretch;justify-content: center;background-color: white;position: relative;}#sk-container-id-1 div.sk-item::before, #sk-container-id-1 div.sk-parallel-item::before {content: \"\";position: absolute;border-left: 1px solid gray;box-sizing: border-box;top: 0;bottom: 0;left: 50%;z-index: -1;}#sk-container-id-1 div.sk-parallel-item {display: flex;flex-direction: column;z-index: 1;position: relative;background-color: white;}#sk-container-id-1 div.sk-parallel-item:first-child::after {align-self: flex-end;width: 50%;}#sk-container-id-1 div.sk-parallel-item:last-child::after {align-self: flex-start;width: 50%;}#sk-container-id-1 div.sk-parallel-item:only-child::after {width: 0;}#sk-container-id-1 div.sk-dashed-wrapped {border: 1px dashed gray;margin: 0 0.4em 0.5em 0.4em;box-sizing: border-box;padding-bottom: 0.4em;background-color: white;}#sk-container-id-1 div.sk-label label {font-family: monospace;font-weight: bold;display: inline-block;line-height: 1.2em;}#sk-container-id-1 div.sk-label-container {text-align: center;}#sk-container-id-1 div.sk-container {/* jupyter's `normalize.less` sets `[hidden] { display: none; }` but bootstrap.min.css set `[hidden] { display: none !important; }` so we also need the `!important` here to be able to override the default hidden behavior on the sphinx rendered scikit-learn.org. See: https://github.com/scikit-learn/scikit-learn/issues/21755 */display: inline-block !important;position: relative;}#sk-container-id-1 div.sk-text-repr-fallback {display: none;}</style><div id=\"sk-container-id-1\" class=\"sk-top-container\"><div class=\"sk-text-repr-fallback\"><pre>XGBRegressor(alpha=0.8, base_score=None, booster=None, callbacks=None,\n",
       "             colsample_bylevel=None, colsample_bynode=None,\n",
       "             colsample_bytree=0.3, device=None, early_stopping_rounds=None,\n",
       "             enable_categorical=False, eval_metric=None, feature_types=None,\n",
       "             gamma=0, grow_policy=None, importance_type=None,\n",
       "             interaction_constraints=None, learning_rate=0.1, max_bin=None,\n",
       "             max_cat_threshold=None, max_cat_to_onehot=None,\n",
       "             max_delta_step=None, max_depth=7, max_features=None,\n",
       "             max_leaves=None, min_child_weight=None, missing=nan,\n",
       "             monotone_constraints=None, multi_strategy=None, n_estimators=160,\n",
       "             n_jobs=-1, ...)</pre><b>In a Jupyter environment, please rerun this cell to show the HTML representation or trust the notebook. <br />On GitHub, the HTML representation is unable to render, please try loading this page with nbviewer.org.</b></div><div class=\"sk-container\" hidden><div class=\"sk-item\"><div class=\"sk-estimator sk-toggleable\"><input class=\"sk-toggleable__control sk-hidden--visually\" id=\"sk-estimator-id-1\" type=\"checkbox\" checked><label for=\"sk-estimator-id-1\" class=\"sk-toggleable__label sk-toggleable__label-arrow\">XGBRegressor</label><div class=\"sk-toggleable__content\"><pre>XGBRegressor(alpha=0.8, base_score=None, booster=None, callbacks=None,\n",
       "             colsample_bylevel=None, colsample_bynode=None,\n",
       "             colsample_bytree=0.3, device=None, early_stopping_rounds=None,\n",
       "             enable_categorical=False, eval_metric=None, feature_types=None,\n",
       "             gamma=0, grow_policy=None, importance_type=None,\n",
       "             interaction_constraints=None, learning_rate=0.1, max_bin=None,\n",
       "             max_cat_threshold=None, max_cat_to_onehot=None,\n",
       "             max_delta_step=None, max_depth=7, max_features=None,\n",
       "             max_leaves=None, min_child_weight=None, missing=nan,\n",
       "             monotone_constraints=None, multi_strategy=None, n_estimators=160,\n",
       "             n_jobs=-1, ...)</pre></div></div></div></div></div>"
      ],
      "text/plain": [
       "XGBRegressor(alpha=0.8, base_score=None, booster=None, callbacks=None,\n",
       "             colsample_bylevel=None, colsample_bynode=None,\n",
       "             colsample_bytree=0.3, device=None, early_stopping_rounds=None,\n",
       "             enable_categorical=False, eval_metric=None, feature_types=None,\n",
       "             gamma=0, grow_policy=None, importance_type=None,\n",
       "             interaction_constraints=None, learning_rate=0.1, max_bin=None,\n",
       "             max_cat_threshold=None, max_cat_to_onehot=None,\n",
       "             max_delta_step=None, max_depth=7, max_features=None,\n",
       "             max_leaves=None, min_child_weight=None, missing=nan,\n",
       "             monotone_constraints=None, multi_strategy=None, n_estimators=160,\n",
       "             n_jobs=-1, ...)"
      ]
     },
     "execution_count": 6,
     "metadata": {},
     "output_type": "execute_result"
    }
   ],
   "source": [
    "## normalization \n",
    "scaler = StandardScaler()\n",
    "X_train = scaler.fit_transform(X_train)\n",
    "X_test = scaler.transform(X_test)\n",
    "\n",
    "## build the model \n",
    "model = xgb.XGBRegressor(\n",
    "            objective='reg:squarederror',\n",
    "            n_jobs=-1,\n",
    "            n_estimators=160,\n",
    "            max_depth=7,\n",
    "            subsample=0.5,\n",
    "            learning_rate=0.1,\n",
    "            gamma=0,\n",
    "            colsample_bytree=0.3,\n",
    "            random_state=2023, max_features=None, alpha=0.8)\n",
    "model.fit(X_train, y_train)"
   ]
  },
  {
   "cell_type": "code",
   "execution_count": 7,
   "id": "b670fc50",
   "metadata": {},
   "outputs": [
    {
     "name": "stdout",
     "output_type": "stream",
     "text": [
      "R2 score: 0.7123421530560063\n",
      "MSE: 1113.7110536560992\n"
     ]
    }
   ],
   "source": [
    "y_pred = model.predict(X_test)\n",
    "r2 = r2_score(y_test, y_pred)\n",
    "mse = mean_squared_error(y_test, y_pred)\n",
    "print('R2 score:', r2)\n",
    "print('MSE:',mse)"
   ]
  },
  {
   "cell_type": "markdown",
   "id": "424cdac9-ca20-4d5d-92c1-cdd93fad97d0",
   "metadata": {},
   "source": [
    "##### 2.4.1.4 Applying to the Whole Data for Predicting the Demand of Bike Riding "
   ]
  },
  {
   "cell_type": "code",
   "execution_count": 8,
   "id": "db34ce1e-35e5-41f5-96fc-8dcc1e9d5670",
   "metadata": {},
   "outputs": [],
   "source": [
    "## predict the departures about all data \n",
    "model_data_departures = model_data[features]\n",
    "model_data_departures = scaler.transform(model_data_departures)\n",
    "model_data['predict_departures']= model.predict(model_data_departures)"
   ]
  },
  {
   "cell_type": "markdown",
   "id": "d83fd57e-a20e-44a5-8bc8-dea302d06f08",
   "metadata": {},
   "source": [
    "#### 2.4.2 Regression for Arrivals\n",
    "##### 2.4.2.1 Exact the Features"
   ]
  },
  {
   "cell_type": "code",
   "execution_count": null,
   "id": "173b8a55-35ee-4405-aa66-b19ac7845e92",
   "metadata": {},
   "outputs": [],
   "source": [
    "\n",
    "# exact the features\n",
    "features = ['is_weekend','is_holiday','stoptime_hour','end_day','month','season','TAvg',\n",
    "                      'lagged_1_temperature','Precipitation ','distance',\n",
    "                      'lagged_1_Precipitation','SNOW','SNWD','lagged_1_SNWD','lagged_2_SNWD']\n",
    "X_train = train_data[features]\n",
    "y_train = train_data['count_end']\n",
    "\n",
    "X_test = test_data[features]\n",
    "y_test = test_data['count_end']"
   ]
  },
  {
   "cell_type": "markdown",
   "id": "cb740a26-df71-4053-827f-4fbb89b9cc49",
   "metadata": {},
   "source": [
    "##### 2.4.2.2 Normalization, Train the Model and Evalute the Model"
   ]
  },
  {
   "cell_type": "code",
   "execution_count": 10,
   "id": "9dbac804-c073-4d57-923d-729db583213a",
   "metadata": {},
   "outputs": [
    {
     "data": {
      "text/html": [
       "<style>#sk-container-id-2 {color: black;}#sk-container-id-2 pre{padding: 0;}#sk-container-id-2 div.sk-toggleable {background-color: white;}#sk-container-id-2 label.sk-toggleable__label {cursor: pointer;display: block;width: 100%;margin-bottom: 0;padding: 0.3em;box-sizing: border-box;text-align: center;}#sk-container-id-2 label.sk-toggleable__label-arrow:before {content: \"▸\";float: left;margin-right: 0.25em;color: #696969;}#sk-container-id-2 label.sk-toggleable__label-arrow:hover:before {color: black;}#sk-container-id-2 div.sk-estimator:hover label.sk-toggleable__label-arrow:before {color: black;}#sk-container-id-2 div.sk-toggleable__content {max-height: 0;max-width: 0;overflow: hidden;text-align: left;background-color: #f0f8ff;}#sk-container-id-2 div.sk-toggleable__content pre {margin: 0.2em;color: black;border-radius: 0.25em;background-color: #f0f8ff;}#sk-container-id-2 input.sk-toggleable__control:checked~div.sk-toggleable__content {max-height: 200px;max-width: 100%;overflow: auto;}#sk-container-id-2 input.sk-toggleable__control:checked~label.sk-toggleable__label-arrow:before {content: \"▾\";}#sk-container-id-2 div.sk-estimator input.sk-toggleable__control:checked~label.sk-toggleable__label {background-color: #d4ebff;}#sk-container-id-2 div.sk-label input.sk-toggleable__control:checked~label.sk-toggleable__label {background-color: #d4ebff;}#sk-container-id-2 input.sk-hidden--visually {border: 0;clip: rect(1px 1px 1px 1px);clip: rect(1px, 1px, 1px, 1px);height: 1px;margin: -1px;overflow: hidden;padding: 0;position: absolute;width: 1px;}#sk-container-id-2 div.sk-estimator {font-family: monospace;background-color: #f0f8ff;border: 1px dotted black;border-radius: 0.25em;box-sizing: border-box;margin-bottom: 0.5em;}#sk-container-id-2 div.sk-estimator:hover {background-color: #d4ebff;}#sk-container-id-2 div.sk-parallel-item::after {content: \"\";width: 100%;border-bottom: 1px solid gray;flex-grow: 1;}#sk-container-id-2 div.sk-label:hover label.sk-toggleable__label {background-color: #d4ebff;}#sk-container-id-2 div.sk-serial::before {content: \"\";position: absolute;border-left: 1px solid gray;box-sizing: border-box;top: 0;bottom: 0;left: 50%;z-index: 0;}#sk-container-id-2 div.sk-serial {display: flex;flex-direction: column;align-items: center;background-color: white;padding-right: 0.2em;padding-left: 0.2em;position: relative;}#sk-container-id-2 div.sk-item {position: relative;z-index: 1;}#sk-container-id-2 div.sk-parallel {display: flex;align-items: stretch;justify-content: center;background-color: white;position: relative;}#sk-container-id-2 div.sk-item::before, #sk-container-id-2 div.sk-parallel-item::before {content: \"\";position: absolute;border-left: 1px solid gray;box-sizing: border-box;top: 0;bottom: 0;left: 50%;z-index: -1;}#sk-container-id-2 div.sk-parallel-item {display: flex;flex-direction: column;z-index: 1;position: relative;background-color: white;}#sk-container-id-2 div.sk-parallel-item:first-child::after {align-self: flex-end;width: 50%;}#sk-container-id-2 div.sk-parallel-item:last-child::after {align-self: flex-start;width: 50%;}#sk-container-id-2 div.sk-parallel-item:only-child::after {width: 0;}#sk-container-id-2 div.sk-dashed-wrapped {border: 1px dashed gray;margin: 0 0.4em 0.5em 0.4em;box-sizing: border-box;padding-bottom: 0.4em;background-color: white;}#sk-container-id-2 div.sk-label label {font-family: monospace;font-weight: bold;display: inline-block;line-height: 1.2em;}#sk-container-id-2 div.sk-label-container {text-align: center;}#sk-container-id-2 div.sk-container {/* jupyter's `normalize.less` sets `[hidden] { display: none; }` but bootstrap.min.css set `[hidden] { display: none !important; }` so we also need the `!important` here to be able to override the default hidden behavior on the sphinx rendered scikit-learn.org. See: https://github.com/scikit-learn/scikit-learn/issues/21755 */display: inline-block !important;position: relative;}#sk-container-id-2 div.sk-text-repr-fallback {display: none;}</style><div id=\"sk-container-id-2\" class=\"sk-top-container\"><div class=\"sk-text-repr-fallback\"><pre>XGBRegressor(alpha=0.8, base_score=None, booster=None, callbacks=None,\n",
       "             colsample_bylevel=None, colsample_bynode=None,\n",
       "             colsample_bytree=0.3, device=None, early_stopping_rounds=None,\n",
       "             enable_categorical=False, eval_metric=None, feature_types=None,\n",
       "             gamma=0, grow_policy=None, importance_type=None,\n",
       "             interaction_constraints=None, learning_rate=0.18999999999999995,\n",
       "             max_bin=None, max_cat_threshold=None, max_cat_to_onehot=None,\n",
       "             max_delta_step=None, max_depth=6, max_features=None,\n",
       "             max_leaves=None, min_child_weight=None, missing=nan,\n",
       "             monotone_constraints=None, multi_strategy=None, n_estimators=94,\n",
       "             n_jobs=-1, ...)</pre><b>In a Jupyter environment, please rerun this cell to show the HTML representation or trust the notebook. <br />On GitHub, the HTML representation is unable to render, please try loading this page with nbviewer.org.</b></div><div class=\"sk-container\" hidden><div class=\"sk-item\"><div class=\"sk-estimator sk-toggleable\"><input class=\"sk-toggleable__control sk-hidden--visually\" id=\"sk-estimator-id-2\" type=\"checkbox\" checked><label for=\"sk-estimator-id-2\" class=\"sk-toggleable__label sk-toggleable__label-arrow\">XGBRegressor</label><div class=\"sk-toggleable__content\"><pre>XGBRegressor(alpha=0.8, base_score=None, booster=None, callbacks=None,\n",
       "             colsample_bylevel=None, colsample_bynode=None,\n",
       "             colsample_bytree=0.3, device=None, early_stopping_rounds=None,\n",
       "             enable_categorical=False, eval_metric=None, feature_types=None,\n",
       "             gamma=0, grow_policy=None, importance_type=None,\n",
       "             interaction_constraints=None, learning_rate=0.18999999999999995,\n",
       "             max_bin=None, max_cat_threshold=None, max_cat_to_onehot=None,\n",
       "             max_delta_step=None, max_depth=6, max_features=None,\n",
       "             max_leaves=None, min_child_weight=None, missing=nan,\n",
       "             monotone_constraints=None, multi_strategy=None, n_estimators=94,\n",
       "             n_jobs=-1, ...)</pre></div></div></div></div></div>"
      ],
      "text/plain": [
       "XGBRegressor(alpha=0.8, base_score=None, booster=None, callbacks=None,\n",
       "             colsample_bylevel=None, colsample_bynode=None,\n",
       "             colsample_bytree=0.3, device=None, early_stopping_rounds=None,\n",
       "             enable_categorical=False, eval_metric=None, feature_types=None,\n",
       "             gamma=0, grow_policy=None, importance_type=None,\n",
       "             interaction_constraints=None, learning_rate=0.18999999999999995,\n",
       "             max_bin=None, max_cat_threshold=None, max_cat_to_onehot=None,\n",
       "             max_delta_step=None, max_depth=6, max_features=None,\n",
       "             max_leaves=None, min_child_weight=None, missing=nan,\n",
       "             monotone_constraints=None, multi_strategy=None, n_estimators=94,\n",
       "             n_jobs=-1, ...)"
      ]
     },
     "execution_count": 10,
     "metadata": {},
     "output_type": "execute_result"
    }
   ],
   "source": [
    "scaler = StandardScaler()\n",
    "X_train = scaler.fit_transform(X_train)\n",
    "X_test = scaler.transform(X_test)\n",
    "\n",
    "model = xgb.XGBRegressor(\n",
    "            objective='reg:squarederror',\n",
    "            n_jobs=-1,\n",
    "            n_estimators=94,\n",
    "            max_depth=6,\n",
    "            subsample=0.9,\n",
    "            learning_rate=0.18999999999999995,\n",
    "            gamma=0,\n",
    "            colsample_bytree=0.3,\n",
    "            random_state=2023, max_features=None, alpha=0.8)\n",
    "model.fit(X_train, y_train)"
   ]
  },
  {
   "cell_type": "code",
   "execution_count": 11,
   "id": "9c6a7120-fec3-4631-986e-a6db5993565c",
   "metadata": {},
   "outputs": [
    {
     "name": "stdout",
     "output_type": "stream",
     "text": [
      "R2 score: 0.7275668270153284\n",
      "MSE: 1060.0692645472266\n"
     ]
    }
   ],
   "source": [
    "y_pred = model.predict(X_test)\n",
    "r2 = r2_score(y_test, y_pred)\n",
    "mse = mean_squared_error(y_test, y_pred)\n",
    "print('R2 score:', r2)\n",
    "print('MSE:',mse)"
   ]
  },
  {
   "cell_type": "markdown",
   "id": "a52454de-fb5d-43d8-b6f7-0110310b50cf",
   "metadata": {},
   "source": [
    "#### 2.4.2.3 Applying to the Whole Data for Predicting the Demand of Bike Riding "
   ]
  },
  {
   "cell_type": "code",
   "execution_count": 12,
   "id": "c664dcbb-52df-4e7a-aa3c-c74c0444c8c1",
   "metadata": {},
   "outputs": [],
   "source": [
    "## predict the arrivals about all data \n",
    "model_data_arrivals= model_data[features]\n",
    "model_data_arrivals = scaler.transform(model_data_arrivals)\n",
    "model_data['predict_arrivals']= model.predict(model_data_arrivals)"
   ]
  },
  {
   "cell_type": "markdown",
   "id": "fbf1225e-ed1f-46c7-9cb6-ec42c327a4db",
   "metadata": {},
   "source": [
    "#### 2.4.3 Regression for Demand of the Bike"
   ]
  },
  {
   "cell_type": "markdown",
   "id": "7a9f33c0",
   "metadata": {},
   "source": [
    "##### **Workflow of Building the Model**\n",
    "1. Processing Data \n",
    "    - Using arrivals prediction minus departures prediction\n",
    "\n",
    "    - Get the ride of the duplicate value because the time interval is hour\n",
    "    \n",
    "    - Merge the data for training \n",
    "    \n",
    "2. Exact the features\n",
    "3. Split the data into train and test.\n",
    "\n",
    "    * Using sklearn to pick up randomly\n",
    "   \n",
    "    * 80% for train, 20% for test\n",
    "\n",
    "\n",
    "4. Normalizaiton, train the model and evaluate the model\n",
    "5. Prdeict the riding volume, using 2018-12-31 to predict riding volume on 2019-1-1"
   ]
  },
  {
   "cell_type": "markdown",
   "id": "9aa2d041-1502-4d57-9c0e-e2b52939bec0",
   "metadata": {},
   "source": [
    "##### 2.4.3.1 Processing Data"
   ]
  },
  {
   "cell_type": "code",
   "execution_count": 13,
   "id": "8b064641-c768-4e18-b53c-913b067d7075",
   "metadata": {},
   "outputs": [],
   "source": [
    "## calculate the demand (arrivals - departures)\n",
    "model_data['demand_bike']= round(model_data.predict_arrivals-model_data.predict_departures)\n",
    "\n",
    "## get the ride of the duplicate value because the time interval is hour (arrivals - departures in each hour)\n",
    "model_data_filter= model_data.drop_duplicates(subset=['start_station_id', 'end_station_id','start_m_d_h','end_m_d_h'])\n",
    "\n",
    "## merge the data for training \n",
    "group_modle_data_fliter=model_data_filter.groupby(['start_day','cluster_label']) # riding volumn per day in each cluster\n",
    "total_value = group_modle_data_fliter['demand_bike'].sum().reset_index()\n",
    "model_data = pd.merge(model_data, total_value, on=['start_day','cluster_label'], how='left')\n",
    "model_data = model_data.rename(columns={'demand_bike_x': 'demand_bike_day','demand_bike_y': 'demand_bike_cluster'})\n",
    "with open('modeldata_predict_bike_daydemand.pickle', 'wb') as f:\n",
    "    pickle.dump(model_data, f)\n",
    "with open('modeldata_predict_bike_daydemand.pickle', 'rb') as f:\n",
    "    model_data = pickle.load(f)"
   ]
  },
  {
   "cell_type": "code",
   "execution_count": 10,
   "id": "f3f26875-8e98-4a04-a104-623e64c61afb",
   "metadata": {},
   "outputs": [
    {
     "data": {
      "text/html": [
       "<div>\n",
       "<style scoped>\n",
       "    .dataframe tbody tr th:only-of-type {\n",
       "        vertical-align: middle;\n",
       "    }\n",
       "\n",
       "    .dataframe tbody tr th {\n",
       "        vertical-align: top;\n",
       "    }\n",
       "\n",
       "    .dataframe thead th {\n",
       "        text-align: right;\n",
       "    }\n",
       "</style>\n",
       "<table border=\"1\" class=\"dataframe\">\n",
       "  <thead>\n",
       "    <tr style=\"text-align: right;\">\n",
       "      <th></th>\n",
       "      <th>tripduration</th>\n",
       "      <th>starttime</th>\n",
       "      <th>stoptime</th>\n",
       "      <th>start_station_id</th>\n",
       "      <th>start_station_latitude</th>\n",
       "      <th>start_station_longitude</th>\n",
       "      <th>end_station_id</th>\n",
       "      <th>end_station_latitude</th>\n",
       "      <th>end_station_longitude</th>\n",
       "      <th>bikeid</th>\n",
       "      <th>...</th>\n",
       "      <th>SNWD</th>\n",
       "      <th>SNOW</th>\n",
       "      <th>lagged_1_temperature</th>\n",
       "      <th>lagged_1_Precipitation</th>\n",
       "      <th>lagged_1_SNWD</th>\n",
       "      <th>lagged_2_SNWD</th>\n",
       "      <th>predict_departures</th>\n",
       "      <th>predict_arrivals</th>\n",
       "      <th>demand_bike_day</th>\n",
       "      <th>demand_bike_cluster</th>\n",
       "    </tr>\n",
       "  </thead>\n",
       "  <tbody>\n",
       "    <tr>\n",
       "      <th>0</th>\n",
       "      <td>970</td>\n",
       "      <td>2018-01-01 13:50:57.434</td>\n",
       "      <td>2018-01-01 14:07:08.186</td>\n",
       "      <td>72.0</td>\n",
       "      <td>40.767272</td>\n",
       "      <td>-73.993929</td>\n",
       "      <td>505.0</td>\n",
       "      <td>40.749013</td>\n",
       "      <td>-73.988484</td>\n",
       "      <td>31956</td>\n",
       "      <td>...</td>\n",
       "      <td>0.0</td>\n",
       "      <td>0.0</td>\n",
       "      <td>15.35</td>\n",
       "      <td>0.0</td>\n",
       "      <td>0.0</td>\n",
       "      <td>0.0</td>\n",
       "      <td>6.029134</td>\n",
       "      <td>7.259035</td>\n",
       "      <td>1.0</td>\n",
       "      <td>13710.0</td>\n",
       "    </tr>\n",
       "    <tr>\n",
       "      <th>1</th>\n",
       "      <td>723</td>\n",
       "      <td>2018-01-01 15:33:30.182</td>\n",
       "      <td>2018-01-01 15:45:33.341</td>\n",
       "      <td>72.0</td>\n",
       "      <td>40.767272</td>\n",
       "      <td>-73.993929</td>\n",
       "      <td>3255.0</td>\n",
       "      <td>40.750585</td>\n",
       "      <td>-73.994685</td>\n",
       "      <td>32536</td>\n",
       "      <td>...</td>\n",
       "      <td>0.0</td>\n",
       "      <td>0.0</td>\n",
       "      <td>15.35</td>\n",
       "      <td>0.0</td>\n",
       "      <td>0.0</td>\n",
       "      <td>0.0</td>\n",
       "      <td>9.943530</td>\n",
       "      <td>12.388288</td>\n",
       "      <td>2.0</td>\n",
       "      <td>13710.0</td>\n",
       "    </tr>\n",
       "    <tr>\n",
       "      <th>2</th>\n",
       "      <td>496</td>\n",
       "      <td>2018-01-01 15:39:18.337</td>\n",
       "      <td>2018-01-01 15:47:35.172</td>\n",
       "      <td>72.0</td>\n",
       "      <td>40.767272</td>\n",
       "      <td>-73.993929</td>\n",
       "      <td>525.0</td>\n",
       "      <td>40.755942</td>\n",
       "      <td>-74.002116</td>\n",
       "      <td>16069</td>\n",
       "      <td>...</td>\n",
       "      <td>0.0</td>\n",
       "      <td>0.0</td>\n",
       "      <td>15.35</td>\n",
       "      <td>0.0</td>\n",
       "      <td>0.0</td>\n",
       "      <td>0.0</td>\n",
       "      <td>13.863530</td>\n",
       "      <td>14.310578</td>\n",
       "      <td>0.0</td>\n",
       "      <td>13710.0</td>\n",
       "    </tr>\n",
       "    <tr>\n",
       "      <th>3</th>\n",
       "      <td>306</td>\n",
       "      <td>2018-01-01 15:40:13.372</td>\n",
       "      <td>2018-01-01 15:45:20.191</td>\n",
       "      <td>72.0</td>\n",
       "      <td>40.767272</td>\n",
       "      <td>-73.993929</td>\n",
       "      <td>447.0</td>\n",
       "      <td>40.763707</td>\n",
       "      <td>-73.985162</td>\n",
       "      <td>31781</td>\n",
       "      <td>...</td>\n",
       "      <td>0.0</td>\n",
       "      <td>0.0</td>\n",
       "      <td>15.35</td>\n",
       "      <td>0.0</td>\n",
       "      <td>0.0</td>\n",
       "      <td>0.0</td>\n",
       "      <td>10.936340</td>\n",
       "      <td>12.634552</td>\n",
       "      <td>2.0</td>\n",
       "      <td>13710.0</td>\n",
       "    </tr>\n",
       "    <tr>\n",
       "      <th>4</th>\n",
       "      <td>306</td>\n",
       "      <td>2018-01-01 18:14:51.568</td>\n",
       "      <td>2018-01-01 18:19:57.642</td>\n",
       "      <td>72.0</td>\n",
       "      <td>40.767272</td>\n",
       "      <td>-73.993929</td>\n",
       "      <td>3356.0</td>\n",
       "      <td>40.774667</td>\n",
       "      <td>-73.984706</td>\n",
       "      <td>30319</td>\n",
       "      <td>...</td>\n",
       "      <td>0.0</td>\n",
       "      <td>0.0</td>\n",
       "      <td>15.35</td>\n",
       "      <td>0.0</td>\n",
       "      <td>0.0</td>\n",
       "      <td>0.0</td>\n",
       "      <td>45.507633</td>\n",
       "      <td>62.834053</td>\n",
       "      <td>17.0</td>\n",
       "      <td>13710.0</td>\n",
       "    </tr>\n",
       "  </tbody>\n",
       "</table>\n",
       "<p>5 rows × 48 columns</p>\n",
       "</div>"
      ],
      "text/plain": [
       "   tripduration               starttime                stoptime  \\\n",
       "0           970 2018-01-01 13:50:57.434 2018-01-01 14:07:08.186   \n",
       "1           723 2018-01-01 15:33:30.182 2018-01-01 15:45:33.341   \n",
       "2           496 2018-01-01 15:39:18.337 2018-01-01 15:47:35.172   \n",
       "3           306 2018-01-01 15:40:13.372 2018-01-01 15:45:20.191   \n",
       "4           306 2018-01-01 18:14:51.568 2018-01-01 18:19:57.642   \n",
       "\n",
       "   start_station_id  start_station_latitude  start_station_longitude  \\\n",
       "0              72.0               40.767272               -73.993929   \n",
       "1              72.0               40.767272               -73.993929   \n",
       "2              72.0               40.767272               -73.993929   \n",
       "3              72.0               40.767272               -73.993929   \n",
       "4              72.0               40.767272               -73.993929   \n",
       "\n",
       "   end_station_id  end_station_latitude  end_station_longitude  bikeid  ...  \\\n",
       "0           505.0             40.749013             -73.988484   31956  ...   \n",
       "1          3255.0             40.750585             -73.994685   32536  ...   \n",
       "2           525.0             40.755942             -74.002116   16069  ...   \n",
       "3           447.0             40.763707             -73.985162   31781  ...   \n",
       "4          3356.0             40.774667             -73.984706   30319  ...   \n",
       "\n",
       "   SNWD  SNOW  lagged_1_temperature  lagged_1_Precipitation lagged_1_SNWD  \\\n",
       "0   0.0   0.0                 15.35                     0.0           0.0   \n",
       "1   0.0   0.0                 15.35                     0.0           0.0   \n",
       "2   0.0   0.0                 15.35                     0.0           0.0   \n",
       "3   0.0   0.0                 15.35                     0.0           0.0   \n",
       "4   0.0   0.0                 15.35                     0.0           0.0   \n",
       "\n",
       "   lagged_2_SNWD  predict_departures  predict_arrivals  demand_bike_day  \\\n",
       "0            0.0            6.029134          7.259035              1.0   \n",
       "1            0.0            9.943530         12.388288              2.0   \n",
       "2            0.0           13.863530         14.310578              0.0   \n",
       "3            0.0           10.936340         12.634552              2.0   \n",
       "4            0.0           45.507633         62.834053             17.0   \n",
       "\n",
       "  demand_bike_cluster  \n",
       "0             13710.0  \n",
       "1             13710.0  \n",
       "2             13710.0  \n",
       "3             13710.0  \n",
       "4             13710.0  \n",
       "\n",
       "[5 rows x 48 columns]"
      ]
     },
     "execution_count": 10,
     "metadata": {},
     "output_type": "execute_result"
    }
   ],
   "source": [
    "model_data.head()"
   ]
  },
  {
   "cell_type": "markdown",
   "id": "cdc68367-3e20-4396-8b78-77f7bb977d00",
   "metadata": {},
   "source": [
    "##### 2.4.3.2 Exact the Features"
   ]
  },
  {
   "cell_type": "code",
   "execution_count": 18,
   "id": "2de25959-f7bd-4469-a20d-9a7a7582627e",
   "metadata": {},
   "outputs": [],
   "source": [
    "\n",
    "##extract features\n",
    "features = ['start_station_id','end_station_id','usertype','gender','duration_mintues','month','weekday','distance',\n",
    "            'starttime_hour','stoptime_hour','is_weekend','is_holiday','season','TAvg','DPAvg','HumidityAvg',\n",
    "            'WindSpeedAvg','Precipitation ','SNWD','SNOW','lagged_1_temperature','lagged_1_Precipitation','lagged_1_SNWD','lagged_2_SNWD']\n",
    "           \n",
    "X = model_data[features]\n",
    "y = model_data['demand_bike_cluster']"
   ]
  },
  {
   "cell_type": "markdown",
   "id": "cd7a11d5-2ae3-4aff-b694-4b65bedc37a2",
   "metadata": {},
   "source": [
    "##### 2.4.3.3 Split the Data into Train and Test "
   ]
  },
  {
   "cell_type": "code",
   "execution_count": 19,
   "id": "6d38024c-ed60-4d24-87d0-b9b8103bdccc",
   "metadata": {},
   "outputs": [],
   "source": [
    "# split the data into train and test \n",
    "from sklearn.model_selection import train_test_split\n",
    "X_train, X_test, y_train, y_test = train_test_split(X, y, test_size=0.2, random_state=42)"
   ]
  },
  {
   "cell_type": "markdown",
   "id": "f8560617-cf80-42b1-9b4c-013c949f98c3",
   "metadata": {},
   "source": [
    "##### 2.4.3.4 Normalization, Train the Model, and Evaluate the Model "
   ]
  },
  {
   "cell_type": "code",
   "execution_count": 20,
   "id": "291fdebc-f0b7-4038-af14-16dada17d087",
   "metadata": {},
   "outputs": [
    {
     "data": {
      "text/html": [
       "<style>#sk-container-id-3 {color: black;}#sk-container-id-3 pre{padding: 0;}#sk-container-id-3 div.sk-toggleable {background-color: white;}#sk-container-id-3 label.sk-toggleable__label {cursor: pointer;display: block;width: 100%;margin-bottom: 0;padding: 0.3em;box-sizing: border-box;text-align: center;}#sk-container-id-3 label.sk-toggleable__label-arrow:before {content: \"▸\";float: left;margin-right: 0.25em;color: #696969;}#sk-container-id-3 label.sk-toggleable__label-arrow:hover:before {color: black;}#sk-container-id-3 div.sk-estimator:hover label.sk-toggleable__label-arrow:before {color: black;}#sk-container-id-3 div.sk-toggleable__content {max-height: 0;max-width: 0;overflow: hidden;text-align: left;background-color: #f0f8ff;}#sk-container-id-3 div.sk-toggleable__content pre {margin: 0.2em;color: black;border-radius: 0.25em;background-color: #f0f8ff;}#sk-container-id-3 input.sk-toggleable__control:checked~div.sk-toggleable__content {max-height: 200px;max-width: 100%;overflow: auto;}#sk-container-id-3 input.sk-toggleable__control:checked~label.sk-toggleable__label-arrow:before {content: \"▾\";}#sk-container-id-3 div.sk-estimator input.sk-toggleable__control:checked~label.sk-toggleable__label {background-color: #d4ebff;}#sk-container-id-3 div.sk-label input.sk-toggleable__control:checked~label.sk-toggleable__label {background-color: #d4ebff;}#sk-container-id-3 input.sk-hidden--visually {border: 0;clip: rect(1px 1px 1px 1px);clip: rect(1px, 1px, 1px, 1px);height: 1px;margin: -1px;overflow: hidden;padding: 0;position: absolute;width: 1px;}#sk-container-id-3 div.sk-estimator {font-family: monospace;background-color: #f0f8ff;border: 1px dotted black;border-radius: 0.25em;box-sizing: border-box;margin-bottom: 0.5em;}#sk-container-id-3 div.sk-estimator:hover {background-color: #d4ebff;}#sk-container-id-3 div.sk-parallel-item::after {content: \"\";width: 100%;border-bottom: 1px solid gray;flex-grow: 1;}#sk-container-id-3 div.sk-label:hover label.sk-toggleable__label {background-color: #d4ebff;}#sk-container-id-3 div.sk-serial::before {content: \"\";position: absolute;border-left: 1px solid gray;box-sizing: border-box;top: 0;bottom: 0;left: 50%;z-index: 0;}#sk-container-id-3 div.sk-serial {display: flex;flex-direction: column;align-items: center;background-color: white;padding-right: 0.2em;padding-left: 0.2em;position: relative;}#sk-container-id-3 div.sk-item {position: relative;z-index: 1;}#sk-container-id-3 div.sk-parallel {display: flex;align-items: stretch;justify-content: center;background-color: white;position: relative;}#sk-container-id-3 div.sk-item::before, #sk-container-id-3 div.sk-parallel-item::before {content: \"\";position: absolute;border-left: 1px solid gray;box-sizing: border-box;top: 0;bottom: 0;left: 50%;z-index: -1;}#sk-container-id-3 div.sk-parallel-item {display: flex;flex-direction: column;z-index: 1;position: relative;background-color: white;}#sk-container-id-3 div.sk-parallel-item:first-child::after {align-self: flex-end;width: 50%;}#sk-container-id-3 div.sk-parallel-item:last-child::after {align-self: flex-start;width: 50%;}#sk-container-id-3 div.sk-parallel-item:only-child::after {width: 0;}#sk-container-id-3 div.sk-dashed-wrapped {border: 1px dashed gray;margin: 0 0.4em 0.5em 0.4em;box-sizing: border-box;padding-bottom: 0.4em;background-color: white;}#sk-container-id-3 div.sk-label label {font-family: monospace;font-weight: bold;display: inline-block;line-height: 1.2em;}#sk-container-id-3 div.sk-label-container {text-align: center;}#sk-container-id-3 div.sk-container {/* jupyter's `normalize.less` sets `[hidden] { display: none; }` but bootstrap.min.css set `[hidden] { display: none !important; }` so we also need the `!important` here to be able to override the default hidden behavior on the sphinx rendered scikit-learn.org. See: https://github.com/scikit-learn/scikit-learn/issues/21755 */display: inline-block !important;position: relative;}#sk-container-id-3 div.sk-text-repr-fallback {display: none;}</style><div id=\"sk-container-id-3\" class=\"sk-top-container\"><div class=\"sk-text-repr-fallback\"><pre>XGBRegressor(alpha=0.8, base_score=None, booster=None, callbacks=None,\n",
       "             colsample_bylevel=None, colsample_bynode=None,\n",
       "             colsample_bytree=0.6, device=None, early_stopping_rounds=None,\n",
       "             enable_categorical=False, eval_metric=None, feature_types=None,\n",
       "             gamma=0, grow_policy=None, importance_type=None,\n",
       "             interaction_constraints=None, learning_rate=0.2899999999999999,\n",
       "             max_bin=None, max_cat_threshold=None, max_cat_to_onehot=None,\n",
       "             max_delta_step=None, max_depth=7, max_features=None,\n",
       "             max_leaves=None, min_child_weight=None, missing=nan,\n",
       "             monotone_constraints=None, multi_strategy=None, n_estimators=157,\n",
       "             n_jobs=-1, ...)</pre><b>In a Jupyter environment, please rerun this cell to show the HTML representation or trust the notebook. <br />On GitHub, the HTML representation is unable to render, please try loading this page with nbviewer.org.</b></div><div class=\"sk-container\" hidden><div class=\"sk-item\"><div class=\"sk-estimator sk-toggleable\"><input class=\"sk-toggleable__control sk-hidden--visually\" id=\"sk-estimator-id-3\" type=\"checkbox\" checked><label for=\"sk-estimator-id-3\" class=\"sk-toggleable__label sk-toggleable__label-arrow\">XGBRegressor</label><div class=\"sk-toggleable__content\"><pre>XGBRegressor(alpha=0.8, base_score=None, booster=None, callbacks=None,\n",
       "             colsample_bylevel=None, colsample_bynode=None,\n",
       "             colsample_bytree=0.6, device=None, early_stopping_rounds=None,\n",
       "             enable_categorical=False, eval_metric=None, feature_types=None,\n",
       "             gamma=0, grow_policy=None, importance_type=None,\n",
       "             interaction_constraints=None, learning_rate=0.2899999999999999,\n",
       "             max_bin=None, max_cat_threshold=None, max_cat_to_onehot=None,\n",
       "             max_delta_step=None, max_depth=7, max_features=None,\n",
       "             max_leaves=None, min_child_weight=None, missing=nan,\n",
       "             monotone_constraints=None, multi_strategy=None, n_estimators=157,\n",
       "             n_jobs=-1, ...)</pre></div></div></div></div></div>"
      ],
      "text/plain": [
       "XGBRegressor(alpha=0.8, base_score=None, booster=None, callbacks=None,\n",
       "             colsample_bylevel=None, colsample_bynode=None,\n",
       "             colsample_bytree=0.6, device=None, early_stopping_rounds=None,\n",
       "             enable_categorical=False, eval_metric=None, feature_types=None,\n",
       "             gamma=0, grow_policy=None, importance_type=None,\n",
       "             interaction_constraints=None, learning_rate=0.2899999999999999,\n",
       "             max_bin=None, max_cat_threshold=None, max_cat_to_onehot=None,\n",
       "             max_delta_step=None, max_depth=7, max_features=None,\n",
       "             max_leaves=None, min_child_weight=None, missing=nan,\n",
       "             monotone_constraints=None, multi_strategy=None, n_estimators=157,\n",
       "             n_jobs=-1, ...)"
      ]
     },
     "execution_count": 20,
     "metadata": {},
     "output_type": "execute_result"
    }
   ],
   "source": [
    "# training model \n",
    "import xgboost as xgb\n",
    "from sklearn.metrics import r2_score\n",
    "from sklearn.preprocessing import StandardScaler\n",
    "scaler = StandardScaler()\n",
    "X_train = scaler.fit_transform(X_train)\n",
    "X_test = scaler.transform(X_test)\n",
    "\n",
    "model = xgb.XGBRegressor(\n",
    "            objective='reg:squarederror',\n",
    "            n_jobs=-1,\n",
    "            n_estimators=157,\n",
    "            max_depth=7,\n",
    "            subsample=0.5,\n",
    "            learning_rate=0.2899999999999999,\n",
    "            gamma=0,\n",
    "            colsample_bytree=0.6,\n",
    "            random_state=2023, max_features=None, alpha=0.8)\n",
    "model.fit(X_train, y_train)"
   ]
  },
  {
   "cell_type": "code",
   "execution_count": 21,
   "id": "93e5a7c0-fcb9-40d8-baf7-fa1408e578bb",
   "metadata": {},
   "outputs": [
    {
     "name": "stdout",
     "output_type": "stream",
     "text": [
      "R2 score: 0.8477975880277733\n"
     ]
    }
   ],
   "source": [
    "y_pred = model.predict(X_test)\n",
    "r2 = r2_score(y_test, y_pred)\n",
    "print('R2 score:', r2)"
   ]
  },
  {
   "cell_type": "markdown",
   "id": "c6ae15fd-e7ff-4e01-b8f0-0bb0eff0f04f",
   "metadata": {},
   "source": [
    "##### 2.4.3.5 Predict the Riding Volume, Using 2018-12-31 to Predict Riding Volume on 2019-1-1"
   ]
  },
  {
   "cell_type": "code",
   "execution_count": null,
   "id": "3f6cb4dc-c6c0-493c-95c4-a8cd71e52fee",
   "metadata": {},
   "outputs": [],
   "source": [
    "## extact the all the data on 2018-12-31 to predict riding volumn on 2019-1-1\n",
    "model_data_1231 = model_data[model_data['startime_y_m_d'] == '2018-12-31']\n",
    "model_1231 = model_data_1231[features]\n",
    "X_test = scaler.transform(model_1231)\n",
    "y_pred = model.predict(X_test)\n",
    "\n",
    "model_data_1231[\"pred\"] = y_pred\n",
    "\n",
    "pred_1_1 = pd.DataFrame(round(model_data_1231.groupby('cluster_label')['pred'].mean()))\n",
    "\n",
    "pred_1_1.to_csv('pred_01_01.csv', index=False)"
   ]
  },
  {
   "cell_type": "code",
   "execution_count": 12,
   "id": "377e9454-ff81-4af0-8315-bce56edae09c",
   "metadata": {},
   "outputs": [
    {
     "data": {
      "text/html": [
       "<div>\n",
       "<style scoped>\n",
       "    .dataframe tbody tr th:only-of-type {\n",
       "        vertical-align: middle;\n",
       "    }\n",
       "\n",
       "    .dataframe tbody tr th {\n",
       "        vertical-align: top;\n",
       "    }\n",
       "\n",
       "    .dataframe thead th {\n",
       "        text-align: right;\n",
       "    }\n",
       "</style>\n",
       "<table border=\"1\" class=\"dataframe\">\n",
       "  <thead>\n",
       "    <tr style=\"text-align: right;\">\n",
       "      <th></th>\n",
       "      <th>pred</th>\n",
       "    </tr>\n",
       "  </thead>\n",
       "  <tbody>\n",
       "    <tr>\n",
       "      <th>0</th>\n",
       "      <td>-284.0</td>\n",
       "    </tr>\n",
       "    <tr>\n",
       "      <th>1</th>\n",
       "      <td>-3186.0</td>\n",
       "    </tr>\n",
       "    <tr>\n",
       "      <th>2</th>\n",
       "      <td>-7095.0</td>\n",
       "    </tr>\n",
       "    <tr>\n",
       "      <th>3</th>\n",
       "      <td>-735.0</td>\n",
       "    </tr>\n",
       "    <tr>\n",
       "      <th>4</th>\n",
       "      <td>746.0</td>\n",
       "    </tr>\n",
       "    <tr>\n",
       "      <th>...</th>\n",
       "      <td>...</td>\n",
       "    </tr>\n",
       "    <tr>\n",
       "      <th>57</th>\n",
       "      <td>2126.0</td>\n",
       "    </tr>\n",
       "    <tr>\n",
       "      <th>58</th>\n",
       "      <td>-9061.0</td>\n",
       "    </tr>\n",
       "    <tr>\n",
       "      <th>59</th>\n",
       "      <td>669.0</td>\n",
       "    </tr>\n",
       "    <tr>\n",
       "      <th>60</th>\n",
       "      <td>-4947.0</td>\n",
       "    </tr>\n",
       "    <tr>\n",
       "      <th>61</th>\n",
       "      <td>-8343.0</td>\n",
       "    </tr>\n",
       "  </tbody>\n",
       "</table>\n",
       "<p>62 rows × 1 columns</p>\n",
       "</div>"
      ],
      "text/plain": [
       "      pred\n",
       "0   -284.0\n",
       "1  -3186.0\n",
       "2  -7095.0\n",
       "3   -735.0\n",
       "4    746.0\n",
       "..     ...\n",
       "57  2126.0\n",
       "58 -9061.0\n",
       "59   669.0\n",
       "60 -4947.0\n",
       "61 -8343.0\n",
       "\n",
       "[62 rows x 1 columns]"
      ]
     },
     "execution_count": 12,
     "metadata": {},
     "output_type": "execute_result"
    }
   ],
   "source": [
    "pd.read_csv('pred_01_01.csv')"
   ]
  },
  {
   "cell_type": "markdown",
   "id": "3ef9f682",
   "metadata": {},
   "source": [
    "## 3. Exploratory Component"
   ]
  },
  {
   "cell_type": "markdown",
   "id": "9cdb5df2-e2a9-4662-a741-b535a3f5b91b",
   "metadata": {},
   "source": [
    "\n",
    "\n",
    "#### **Explanation:**\n",
    "\n",
    "As we can see the numbers in the result above. In reality, the demands won't be exactly satisfied by every station. Like the result in pred_1_1, but we cannot always collect the exact number of bikes for the next day due to many reasons like shortage of time, and shortage of bikes. How can we improve our predictions?\n",
    "\n",
    "And in visualization part, we talk about picture 3 in the 1.2.3 gives us inspirations. Based on the number of clusters, 62, we measure by day, and we can get the probability of each cluster requiring the number of bikes. \n",
    "\n",
    "\n",
    "#### **Specific Method**\n",
    "\n",
    "**Step 1:** Collect data from 2019 and 2020, with the aim of data augmentation to prevent overfitting.\n",
    "\n",
    "**Step 2:** Use data from 2018 to 2020 to create daily bike borrowing and return graphs (from start station to end station). Assign different colors based on the station's cluster affiliation and adjust the line thickness based on the number of occurrences for each start station to end station pair (thicker lines for higher occurrence). An example image is shown in section 3.2.1.\n",
    "\n",
    "**Step 3:** Utilize a pre-trained 'ResNet-50 model' and retain the weights of the pre-trained model, and then connect it to 3 hidden layers and a softmax output layer. We selected Mean Squared Error (MSE) Loss as the loss function, and employed the Adam optimizer for model training. Input data are graphs and output is the possibility of 62 clusters. \n",
    "\n",
    "**step 4:** Batch size = 1, and training data one by one in chronological order. Specific results and evaluations are provided later.\n",
    "\n",
    "\n",
    "#### **Brief Introduction**\n",
    "\n",
    "**3.1 Collecting and Processing the 2019 and 2020 Dataset** \n",
    "\n",
    "1. Collect 2019 and 2020 and make them have the same format as 2018\n",
    "\n",
    "2. Using module in 'data_utils.py' to process with data. We have introduced it in **1.1** and **2.1**\n",
    "\n",
    "\n",
    "**3.2 Draw Directed Graph**\n",
    "\n",
    "1. Calculate the labels using in CNN (details about label in 3.2.1)\n",
    "\n",
    "2. Using package **networkx** to draw the rent-lending images per day. So we get the total images (the exact number is 1095)\n",
    "\n",
    "\n",
    "\n",
    "**3.3 Processing the Images**\n",
    "\n",
    "1. The size of the original images is very large, we need to resize them to 224*224.\n",
    "\n",
    "2. There are four channels in the images RGBA, we need to get rid of the Alpha channel.\n",
    "\n",
    "**3.4 Build the CNN model**\n",
    "1. Split the data into train (Jan 2018 to Oct 2020), validation (Nov 2020), and test data (Dec 2020)\n",
    "\n",
    "2. Normalization and convert into tensor \n",
    "\n",
    "3. Using pre-train model, choose optimizer and criterion (learning_rate: 0.0001, decay :0.01)\n",
    "\n",
    "4. test forward propagation\n",
    "\n",
    "**3.5 Train Model**\n",
    "\n",
    "1. Get the train loss and validation loss\n",
    "\n",
    "\n",
    "**3.6 Test the Model and Evaluate the Model**\n",
    "\n",
    "1. Get the test loss"
   ]
  },
  {
   "cell_type": "markdown",
   "id": "9056efb3",
   "metadata": {},
   "source": [
    "#### **Conclusion**\n",
    "|<img src=\"image/train_loss.png\" alt=\"Image 1\" width=\"400\" height=\"200\"> | <img src=\"image/validation_loss.png\" alt=\"Image 2\" width=\"400\" height=\"200\">|\n",
    "\n",
    "The final converged *training loss* is 0.00098, and the final converged *validation loss* is 0.001. The *test loss* is 0.00116. \n",
    "\n",
    "A low training loss indicates that the model performs very well on the training set, fitting the data effectively. A low validation loss means the model also performs well on unseen data, demonstrating good generalization ability. Moreover, the similarity between validation loss and training loss typically suggests that the model is not overfitting. The test loss is slightly higher than the training and validation losses, but the difference is not significant.\n",
    "\n",
    "The conclusion is that the model performs well and is sufficiently stable. However, there is a certain probability of underfitting (even though we used the 'ResNet-50 model' as a pre-trained model).\n",
    "\n",
    "For subsequent experiments: using more sample data, improving data quality, and refining the custom connection layers should be considered to check for the risk of underfitting."
   ]
  },
  {
   "cell_type": "markdown",
   "id": "ce9da5ba-9c12-4dc6-83c8-a8f184159360",
   "metadata": {},
   "source": [
    "### 3.1  Collecting and Processing the 2019 and 2020 Dataset \n",
    "#### 3.1.1 Read the Data"
   ]
  },
  {
   "cell_type": "code",
   "execution_count": null,
   "id": "f36ec72f-8b77-42f4-a6a6-529604caa98e",
   "metadata": {},
   "outputs": [],
   "source": [
    "file_paths_2019 = [\n",
    "    '/Users/chensitong/python3.9.11/42577BAProject/database/2019/202001-citibike-tripdata.csv','/Users/chensitong/python3.9.11/42577BAProject/database/2019/202002-citibike-tripdata.csv',\n",
    "    '/Users/chensitong/python3.9.11/42577BAProject/database/2019/202003-citibike-tripdata.csv','/Users/chensitong/python3.9.11/42577BAProject/database/2019/202004-citibike-tripdata.csv',\n",
    "    '/Users/chensitong/python3.9.11/42577BAProject/database/2019/202005-citibike-tripdata.csv','/Users/chensitong/python3.9.11/42577BAProject/database/2019/202006-citibike-tripdata.csv',\n",
    "    '/Users/chensitong/python3.9.11/42577BAProject/database/2019/202007-citibike-tripdata.csv','/Users/chensitong/python3.9.11/42577BAProject/database/2019/202008-citibike-tripdata.csv',\n",
    "    '/Users/chensitong/python3.9.11/42577BAProject/database/2019/202009-citibike-tripdata.csv','/Users/chensitong/python3.9.11/42577BAProject/database/2019/202010-citibike-tripdata.csv',\n",
    "    '/Users/chensitong/python3.9.11/42577BAProject/database/2019/202011-citibike-tripdata.csv','/Users/chensitong/python3.9.11/42577BAProject/database/2019/202012-citibike-tripdata.csv']\n",
    "file_paths_2020 = [\n",
    "    '/Users/chensitong/python3.9.11/42577BAProject/database/2020/202001-citibike-tripdata.csv','/Users/chensitong/python3.9.11/42577BAProject/database/2020/202002-citibike-tripdata.csv',\n",
    "    '/Users/chensitong/python3.9.11/42577BAProject/database/2020/202003-citibike-tripdata.csv','/Users/chensitong/python3.9.11/42577BAProject/database/2020/202004-citibike-tripdata.csv',\n",
    "    '/Users/chensitong/python3.9.11/42577BAProject/database/2020/202005-citibike-tripdata.csv','/Users/chensitong/python3.9.11/42577BAProject/database/2020/202006-citibike-tripdata.csv',\n",
    "    '/Users/chensitong/python3.9.11/42577BAProject/database/2020/202007-citibike-tripdata.csv','/Users/chensitong/python3.9.11/42577BAProject/database/2020/202008-citibike-tripdata.csv',\n",
    "    '/Users/chensitong/python3.9.11/42577BAProject/database/2020/202009-citibike-tripdata.csv','/Users/chensitong/python3.9.11/42577BAProject/database/2020/202010-citibike-tripdata.csv',\n",
    "    '/Users/chensitong/python3.9.11/42577BAProject/database/2020/202011-citibike-tripdata.csv','/Users/chensitong/python3.9.11/42577BAProject/database/2020/202012-citibike-tripdata.csv']\n",
    "result_2019 = pd.concat([pd.read_csv(file) for file in file_paths_2019], ignore_index=True)\n",
    "result_2020 = pd.concat([pd.read_csv(file) for file in file_paths_2020], ignore_index=True)"
   ]
  },
  {
   "cell_type": "markdown",
   "id": "79130d84-bd20-452e-b2c0-cbdfa4566948",
   "metadata": {},
   "source": [
    "#### 3.1.2 Processing the Data "
   ]
  },
  {
   "cell_type": "code",
   "execution_count": null,
   "id": "7047bc1b-fc26-48a6-be59-eb8894f0eb41",
   "metadata": {},
   "outputs": [],
   "source": [
    "# processing 2019 and 2020 data \n",
    "def processing_data_same_2018(result_2019):\n",
    "    # processing data before cluster\n",
    "    data_processor = data_utils.processingData(result_2019)\n",
    "    df_2019= data_processor.processingData_before_cluster()\n",
    "    # kmeans cluster 62\n",
    "    features = ['start_station_latitude','start_station_longitude']\n",
    "    data_cluster = df_2019[features]\n",
    "    label = data_utils.kmeans_62_data(data_cluster)\n",
    "    df_2019[\"cluster_label\"] = label\n",
    "    # processing data after cluster\n",
    "    data_processor= data_utils.processingData(df_2019)\n",
    "    df_2019=data_processor.processingData_after_cluster()\n",
    "    return df_2019\n",
    "\n",
    "df_2019 = processing_data_same_2018(result_2019)\n",
    "df_2020 = processing_data_same_2018(result_2020)\n",
    "\n",
    "with open('/Users/chensitong/python3.9.11/42577BAProject/database/2019_model_data.pickle', 'wb') as f:\n",
    "    pickle.dump(df_2019, f)\n",
    "with open('/Users/chensitong/python3.9.11/42577BAProject/database/2020_model_data.pickle', 'wb') as f:\n",
    "    pickle.dump(df_2020, f)"
   ]
  },
  {
   "cell_type": "markdown",
   "id": "be0d04da-fdcd-4c10-9eb4-4bb1a739a7fd",
   "metadata": {},
   "source": [
    "### 3.2 Draw Directed Graph\n",
    " **Information**:\n",
    "\n",
    "1. Here, we just show how to draw the Directed Graph on year 2018. Drawing images on 2019 and 2020 is the same.\n",
    "\n",
    "2. And we calculate the labels. By grouping the data based on clusters and departure days at the stations, as well as clusters and arrival days at the stations, we obtain the actual demand for bikes. Then, by subtracting the demand from the departure days from the demand on arrival days for each cluster, and dividing it by the total demand, we obtain the probability of bike demand for each of the 62 clusters on each day of the year\n",
    "\n",
    "**About the Graph**:\n",
    "1. Each connection 'start_station_id', 'end_station_id' has a color\n",
    "\n",
    "2. According to the number of each connection, each connection has a different weight. (The thickness of the lines is different)\n",
    "\n",
    "3. We use **' nx.kamada_kawai_layout'** to draw graphs"
   ]
  },
  {
   "cell_type": "markdown",
   "id": "87060a7f-09bb-4f58-882c-ef60019d459f",
   "metadata": {},
   "source": [
    "#### 3.2.1 Calculate the Labels Using in CNN"
   ]
  },
  {
   "cell_type": "code",
   "execution_count": null,
   "id": "55348964-f820-4da3-8754-f5e921c3149d",
   "metadata": {},
   "outputs": [],
   "source": [
    "## calculate the real demand of bike per day \n",
    "with open('/Users/chensitong/python3.9.11/42577BAProject/database/model_data_0.719.pickle', 'rb') as f:\n",
    "   df = pickle.load(f)\n",
    "\n",
    "df['stop_y_m_d'] = df['stoptime'].dt.strftime('%Y-%m-%d')\n",
    "df['start_y_m_d'] = df['starttime'].dt.strftime('%Y-%m-%d')\n",
    "df1 = df.groupby([\"cluster_label\",'start_y_m_d']).size().reset_index()\n",
    "df2 = df.groupby([\"cluster_label\",'stop_y_m_d']).size().reset_index()\n",
    "df2 = df2.rename(columns={'stop_y_m_d': 'start_y_m_d'})\n",
    "df3 = pd.merge(df1, df2, on=['start_y_m_d','cluster_label'], how='left')\n",
    "df3['demand'] = df3['0_y']-df3['0_x']\n",
    "df3['demand'] = df3['demand'].apply(lambda x: 0 if x > 0 else x) # demand is negative in this part,so turn positive into zero  \n",
    "df3['demand'] = df3['demand'].apply(lambda x: x*-1) # turn negative into positive, making the demand is positive \n",
    "# get the probability of cluster per day \n",
    "# every day each cluster has each prosbility, so prob_cluster_365's shape is [365*62]\n",
    "prob_cluster_365= []\n",
    "for i in range(365):\n",
    "    new=df3[df3['start_y_m_d']== df3['start_y_m_d'].unique()[i]]\n",
    "    #in case there is no ride in the cluster, not every day has 62 clusters \n",
    "    if len(new)==62:\n",
    "        a = [(np.array(new['demand'])[j]/ new['demand'].sum()) for j in range(62)]\n",
    "    else:\n",
    "        missing_numbers = set(range(62)) - set(new['cluster_label'])\n",
    "        missing_df = pd.DataFrame({'cluster_label': list(missing_numbers)})\n",
    "        new = pd.concat([new, missing_df])\n",
    "        new= new.sort_values(by='cluster_label').reset_index(drop=True)\n",
    "        new.fillna(0, inplace=True)\n",
    "        a = [(np.array(new['demand'])[j]/ new['demand'].sum()) for j in range(62)]      \n",
    "    prob_cluster_365 = prob_cluster_365 +[a]\n",
    "with open('/work3/s230027/BA/2019_prob_cluster_365.pickle', 'wb') as f:\n",
    "    pickle.dump(prob_cluster_365, f)"
   ]
  },
  {
   "cell_type": "markdown",
   "id": "17665803-fc0b-45a1-a1d9-2a6e4b290d0b",
   "metadata": {},
   "source": [
    "#### 3.2.1 Draw Directed Graph"
   ]
  },
  {
   "cell_type": "code",
   "execution_count": null,
   "id": "bfff5946-ff1c-459e-8a10-e9a36427483d",
   "metadata": {},
   "outputs": [],
   "source": [
    "#dic for edge color reflection\n",
    "edge_map = df[['start_station_id','end_station_id','cluster_label']].drop_duplicates(subset=['start_station_id','end_station_id'])\n",
    "edge_color_all={}\n",
    "for _, row in edge_map.iterrows():\n",
    "    edge_color_all[(row['start_station_id'], row['end_station_id'])] = int(row['cluster_label'])\n",
    "# dic for edge value \n",
    "from sklearn.preprocessing import MinMaxScaler\n",
    "df_grap_testcount= df.groupby(['start_station_id','end_station_id']).size().reset_index()\n",
    "scaler = MinMaxScaler()\n",
    "value= scaler.fit_transform(np.array(df_grap_testcount[0]).reshape(-1,1))\n",
    "df_grap_testcount[0] = value*30\n",
    "edge_count_all={}\n",
    "i = 0\n",
    "for _, row in df_grap_testcount.iterrows():\n",
    "    edge_count_all[(row['start_station_id'], row['end_station_id'])]=row[0]"
   ]
  },
  {
   "cell_type": "code",
   "execution_count": null,
   "id": "c65ff5da-c151-44a1-a889-20e1ad62dd8d",
   "metadata": {},
   "outputs": [],
   "source": [
    "#draw directed graph\n",
    "node_num_list,edge_num_list,density_list = [],[],[]\n",
    "i = 0\n",
    "output_folder = '/work3/s230027/BA/2019graph/'\n",
    "for date in df['start_y_m_d'].unique():\n",
    "    df_grap_test = df[df['start_y_m_d'] == date][['start_station_id','end_station_id']]\n",
    "    df_grap_test_1 = df_grap_test\n",
    "    edge_color,edge_count = data_utils.exact_dict(df_grap_test_1)\n",
    "    # create the image\n",
    "    plt.figure(figsize=(8, 8))\n",
    "    G = nx.DiGraph() \n",
    "    G.add_nodes_from(df_grap_test_1['start_station_id'].unique())\n",
    "    G.add_nodes_from(df_grap_test_1['end_station_id'].unique())\n",
    "    for idx, row in df_grap_test_1.iterrows():\n",
    "        G.add_edge(row['start_station_id'], row['end_station_id']) \n",
    "    node_num = G.number_of_nodes()\n",
    "    edge_num = G.number_of_edges()\n",
    "    density = nx.density(G)\n",
    "    plt.figure(figsize=(45,30))  \n",
    "    # color \n",
    "    cmap = plt.get_cmap('viridis', 62)\n",
    "    # node_colors = [mcolors.to_hex(cmap(node_color[node])) for node in G.nodes()]\n",
    "    edge_colors = [mcolors.to_hex(cmap(edge_color[edge])) for edge in G.edges()]\n",
    "    # edge weight\n",
    "    for edge, value in edge_count.items():\n",
    "        G.add_edge(edge[0], edge[1], weight=value)\n",
    "    # Get edge weights for setting edge widths\n",
    "    edge_weights = [G[u][v]['weight'] for u, v in G.edges()]\n",
    "    pos = nx.kamada_kawai_layout(G)\n",
    "    nx.draw_networkx(G,pos = pos ,node_size=15 ,node_color = 'gray', alpha=0.5, width=edge_weights,edge_color =edge_colors)\n",
    "    ax = plt.gca()\n",
    "    ax.xaxis.set_major_locator(MaxNLocator(integer=True))\n",
    "    ax.yaxis.set_major_locator(MaxNLocator(integer=True))\n",
    "    plt.axis('off')  \n",
    "    #save pic\n",
    "    filename = f'RLbike_graph_2019_{i+1}.png'\n",
    "    file_path = os.path.join(output_folder, filename)\n",
    "    plt.savefig(file_path, dpi=300, bbox_inches='tight', pad_inches=0) \n",
    "    node_num_list.append(node_num)\n",
    "    edge_num_list.append(edge_num)\n",
    "    density_list.append(density)\n",
    "    print(\"have drawn:\",i+1)\n",
    "    i +=1"
   ]
  },
  {
   "cell_type": "markdown",
   "id": "2d6854d1-f814-45c4-b44b-027c0a9bee9d",
   "metadata": {},
   "source": [
    "### 3.3 Processing the Images"
   ]
  },
  {
   "cell_type": "markdown",
   "id": "ce157aa0-53d2-4a92-8797-df577d499beb",
   "metadata": {},
   "source": [
    "##### **Processing the images**:\n",
    "1. The size of the original images is very large, we need to resize them to 224*224.\n",
    "\n",
    "2. There are four channels in the images RGBA, we need to get rid of the Alpha channel.\n",
    "\n",
    "3. we just show how to deal with the images about 2018. Coping with 2019, and 2020 is the same."
   ]
  },
  {
   "cell_type": "code",
   "execution_count": 3,
   "id": "ca8c1b98-56b8-4506-9968-7a525a1f1709",
   "metadata": {},
   "outputs": [
    {
     "name": "stdout",
     "output_type": "stream",
     "text": [
      "Total Observations:\t 365\n",
      "Running GPU.\n"
     ]
    }
   ],
   "source": [
    "image_paths = ['/work3/s230027/BA/2018graph/RLbike_graph_{}.png'.format(i) for i in range(1,366)]\n",
    "print(\"Total Observations:\\t\", len(image_paths))\n",
    "use_cuda = torch.cuda.is_available()\n",
    "print(\"Running GPU.\") if use_cuda else print(\"No GPU available.\")"
   ]
  },
  {
   "cell_type": "code",
   "execution_count": 4,
   "id": "8d763205-4acf-40a3-92f3-0d71a701308b",
   "metadata": {},
   "outputs": [
    {
     "data": {
      "image/png": "[encoded data removed]",
      "text/plain": [
       "<Figure size 300x300 with 1 Axes>"
      ]
     },
     "metadata": {},
     "output_type": "display_data"
    }
   ],
   "source": [
    "# Display the first image\n",
    "plt.figure(figsize=(3, 3))\n",
    "image = imread(image_paths[0])\n",
    "plt.imshow(image, cmap='viridis')\n",
    "plt.title('RLbike_graph_1',fontsize=8)\n",
    "plt.axis('off')\n",
    "plt.show()"
   ]
  },
  {
   "cell_type": "code",
   "execution_count": 5,
   "id": "344bb5e8-a4f1-45ca-8185-f772e93d9342",
   "metadata": {},
   "outputs": [
    {
     "name": "stdout",
     "output_type": "stream",
     "text": [
      "The image has 4 channel(s).\n"
     ]
    }
   ],
   "source": [
    "#exam the number of channels\n",
    "data_utils.exam_channels(image_paths[0])"
   ]
  },
  {
   "cell_type": "code",
   "execution_count": 9,
   "id": "ebf0e0ad-dfff-46a7-8363-50efb9849a78",
   "metadata": {},
   "outputs": [
    {
     "name": "stdout",
     "output_type": "stream",
     "text": [
      "The image has 3 channel(s).\n"
     ]
    }
   ],
   "source": [
    "## processing the data (resize and get rid of  Alpha channel)\n",
    "output_folder = '/work3/s230027/BA/2018_graph_resize/'\n",
    "image_processor = data_utils.ProcssingImage(image_paths, output_folder)\n",
    "for idx in range(len(image_paths)):\n",
    "    image_processor.process_image(idx)\n",
    "#exam the number of channels again \n",
    "after_image_path = output_folder+'RLbike_graph_2018_1.png'\n",
    "data_utils.exam_channels(after_image_path)"
   ]
  },
  {
   "cell_type": "markdown",
   "id": "54e17e73-32fd-43c1-b4e8-2d67da8a7dbd",
   "metadata": {},
   "source": [
    "### 3.4 Build the CNN Model"
   ]
  },
  {
   "cell_type": "markdown",
   "id": "c970538e-c394-4b2b-b09d-57c7cf2187d7",
   "metadata": {},
   "source": [
    "#### 3.4.1 Split the Data into Train, Validation and Test Data \n",
    "\n",
    "##### **Information**\n",
    "\n",
    "1. Train data is from Jan 2018 to Oct 2020 \n",
    "\n",
    "2. Validation is are Nov 2020\n",
    "\n",
    "3. Test data is Dec 2020"
   ]
  },
  {
   "cell_type": "code",
   "execution_count": 5,
   "id": "1fdae13f-49c9-401f-81e5-107e5d74bc62",
   "metadata": {},
   "outputs": [
    {
     "name": "stdout",
     "output_type": "stream",
     "text": [
      "Total Observations of Images :\t 1095\n",
      "Total Observations of Labels :\t 1095\n"
     ]
    }
   ],
   "source": [
    "## Open all of the images\n",
    "image_paths_2018 = ['/work3/s230027/BA/2018_graph_resize/RLbike_graph_2018_{}.png'.format(i) for i in range(1,366)]\n",
    "image_paths_2019 = ['/work3/s230027/BA/2019_graph_resize/RLbike_graph_2019_{}.png'.format(i) for i in range(1,366)]\n",
    "image_paths_2020 = ['/work3/s230027/BA/2020_graph_resize/RLbike_graph_2020_{}.png'.format(i) for i in range(1,366)]\n",
    "all_image_paths= image_paths_2018+image_paths_2019+image_paths_2020 \n",
    "print(\"Total Observations of Images :\\t\", len(all_image_paths))\n",
    "## Open all of labels \n",
    "with open('/work3/s230027/BA/2018_prob_cluster_365.pickle', 'rb') as f:\n",
    "   labels_2018= pickle.load(f)\n",
    "with open('/work3/s230027/BA/2019_prob_cluster_365.pickle', 'rb') as f:\n",
    "   labels_2019= pickle.load(f)\n",
    "with open('/work3/s230027/BA/2018_prob_cluster_365.pickle', 'rb') as f:\n",
    "   labels_2020= pickle.load(f)  \n",
    "all_labels = labels_2018+labels_2019+labels_2020\n",
    "print(\"Total Observations of Labels :\\t\", len(all_labels))\n",
    "all_labels = torch.tensor(all_labels)"
   ]
  },
  {
   "cell_type": "code",
   "execution_count": 6,
   "id": "4fd88467-b58e-4774-9716-7a7db3a21526",
   "metadata": {},
   "outputs": [],
   "source": [
    "#validation data are Nov in 2020/test data are Dec in 2020/ train data are others \n",
    "train_index = all_image_paths[0:1036]\n",
    "validation_index = all_image_paths[1036:1066]\n",
    "test_index= all_image_paths[1066:]\n",
    "train_labels = all_labels[0:1036]\n",
    "validation_labels = all_labels[1036:1066]\n",
    "test_labels = all_labels[1066:]"
   ]
  },
  {
   "cell_type": "markdown",
   "id": "df5f6b2d-b5e6-4c40-b446-e39be3626683",
   "metadata": {},
   "source": [
    "#### 3.4.2 Processing the Image Fitting into CNN (Format and Normalization)"
   ]
  },
  {
   "cell_type": "code",
   "execution_count": null,
   "id": "63da3596",
   "metadata": {},
   "outputs": [],
   "source": [
    "transform = transforms.Compose([transforms.ToTensor(),\n",
    "                                transforms.Normalize(mean=[0.485, 0.456, 0.406], std=[0.229, 0.224, 0.225])])\n",
    "dataset = data_utils.DataTpyeConversion(train_index, train_labels, transform=transform)\n",
    "train_data= DataLoader(dataset, batch_size=1, shuffle=False) #batch_size=1 for time seires\n",
    "dataset = data_utils.DataTpyeConversion(validation_index, validation_labels, transform=transform)\n",
    "validation_data= DataLoader(dataset, batch_size=1, shuffle=False) \n",
    "dataset = data_utils.DataTpyeConversion(test_index, test_labels, transform=transform)\n",
    "test_data= DataLoader(dataset, batch_size=1, shuffle=False) "
   ]
  },
  {
   "cell_type": "code",
   "execution_count": 8,
   "id": "98977781-8d84-47bc-992d-2e1547ede807",
   "metadata": {},
   "outputs": [
    {
     "name": "stdout",
     "output_type": "stream",
     "text": [
      "TRAIN\n",
      "\timages: torch.Size([1, 3, 224, 224])\n",
      "\tlabels: torch.Size([1, 62])\n",
      "\n",
      "VALID\n",
      "\timages: torch.Size([1, 3, 224, 224])\n",
      "\tlabels: torch.Size([1, 62])\n",
      "\n",
      "TEST\n",
      "\timages: torch.Size([1, 3, 224, 224])\n",
      "\tlabels: torch.Size([1, 62])\n"
     ]
    }
   ],
   "source": [
    "train_batch,train_batch_labels = next(iter(train_data))\n",
    "validation_batch, validation_batch_labels = next(iter(validation_data))\n",
    "test_batch, test_batch_labels= next(iter(test_data))\n",
    "print(\"TRAIN\")\n",
    "print(\"\\timages:\", train_batch.shape)\n",
    "print(\"\\tlabels:\", train_batch_labels.shape)\n",
    "print()\n",
    "print(\"VALID\")\n",
    "print(\"\\timages:\", validation_batch.shape)\n",
    "print(\"\\tlabels:\", validation_batch_labels.shape)\n",
    "print()\n",
    "print(\"TEST\")\n",
    "print(\"\\timages:\", test_batch.shape)\n",
    "print(\"\\tlabels:\", test_batch_labels.shape)"
   ]
  },
  {
   "cell_type": "markdown",
   "id": "7edfa5c6-63a6-42c2-a464-a076d9ed66af",
   "metadata": {},
   "source": [
    "#### 3.4.3 Build the Model"
   ]
  },
  {
   "cell_type": "code",
   "execution_count": null,
   "id": "d9bdee6c",
   "metadata": {},
   "outputs": [],
   "source": [
    "# using ResNet-50\n",
    "model = models.resnet50(pretrained=True)\n",
    "for param in model.parameters():\n",
    "    param.requires_grad = False\n",
    "in_features = model.fc.in_features\n",
    "#define 3 hidden layers and softmax output \n",
    "classifier = nn.Sequential(\n",
    "    nn.Linear(in_features, 128),\n",
    "    nn.ReLU(),\n",
    "    nn.Linear(128, 128),\n",
    "    nn.ReLU(),\n",
    "    nn.Linear(128, 128),\n",
    "    nn.ReLU(),\n",
    "    nn.Linear(128, 62),  \n",
    "    nn.Softmax(dim=1)  # softmax\n",
    ")\n",
    "model.fc = classifier\n",
    "if use_cuda:\n",
    "    model.cuda()\n",
    "print(model)"
   ]
  },
  {
   "cell_type": "code",
   "execution_count": 10,
   "id": "fa13b524-963b-41d9-bef4-bfcc9d46f562",
   "metadata": {},
   "outputs": [],
   "source": [
    "# choose optimizer and criterion\n",
    "LEARNING_RATE = 0.0001\n",
    "optimizer = optim.Adam(model.parameters(), LEARNING_RATE,weight_decay=0.01)  # weight_decay is L2 regularization \n",
    "criterion = nn.MSELoss()"
   ]
  },
  {
   "cell_type": "markdown",
   "id": "c62b5f19-54ad-46c1-8dd5-254239dd8056",
   "metadata": {},
   "source": [
    "#### 3.4.4 Test Network"
   ]
  },
  {
   "cell_type": "code",
   "execution_count": 11,
   "id": "41debc65",
   "metadata": {},
   "outputs": [
    {
     "name": "stdout",
     "output_type": "stream",
     "text": [
      "torch.Size([1, 62])\n"
     ]
    }
   ],
   "source": [
    "img_shape = tuple([1, 3, 224, 224])\n",
    "x_image = data_utils.get_variable(Variable(torch.from_numpy(data_utils.randnorm(img_shape))))\n",
    "pred =model(x_image)\n",
    "print(pred.shape)"
   ]
  },
  {
   "cell_type": "markdown",
   "id": "84771bbd-a698-46ab-ac10-201ac9d4cf2e",
   "metadata": {},
   "source": [
    "#### 3.5 Train Model"
   ]
  },
  {
   "cell_type": "code",
   "execution_count": 12,
   "id": "6afce2f4-ad04-429f-81d4-659097241afd",
   "metadata": {},
   "outputs": [
    {
     "name": "stdout",
     "output_type": "stream",
     "text": [
      "Epoch 1: Train Loss = 0.0009777097729966044\n",
      "Epoch 1: Validation Loss = 0.0010047729779786676\n",
      "Epoch 2: Train Loss = 0.0009775529615581036\n",
      "Epoch 2: Validation Loss = 0.0010049486286284734\n",
      "Epoch 3: Train Loss = 0.0009775402722880244\n",
      "Epoch 3: Validation Loss = 0.0010049470725091273\n",
      "Epoch 4: Train Loss = 0.0009775379439815879\n",
      "Epoch 4: Validation Loss = 0.0010049453286277016\n",
      "Epoch 5: Train Loss = 0.0009775368962436914\n",
      "Epoch 5: Validation Loss = 0.0010049440786156429\n",
      "Epoch 6: Train Loss = 0.0009775361977517605\n",
      "Epoch 6: Validation Loss = 0.0010049429225902603\n",
      "Epoch 7: Train Loss = 0.000977535848505795\n",
      "Epoch 7: Validation Loss = 0.001004942110348221\n",
      "Epoch 8: Train Loss = 0.0009775357320904732\n",
      "Epoch 8: Validation Loss = 0.0010049417596290845\n",
      "Epoch 9: Train Loss = 0.0009775356156751513\n",
      "Epoch 9: Validation Loss = 0.001004941651211134\n",
      "Epoch 10: Train Loss = 0.0009775356156751513\n",
      "Epoch 10: Validation Loss = 0.0010049416219586325\n",
      "Epoch 11: Train Loss = 0.0009775357320904732\n",
      "Epoch 11: Validation Loss = 0.001004941612446144\n",
      "Epoch 12: Train Loss = 0.0009775357320904732\n",
      "Epoch 12: Validation Loss = 0.0010049416091631733\n",
      "Epoch 13: Train Loss = 0.0009775357320904732\n",
      "Epoch 13: Validation Loss = 0.0010049416081547172\n",
      "Epoch 14: Train Loss = 0.0009775356156751513\n",
      "Epoch 14: Validation Loss = 0.0010049416078793123\n",
      "Epoch 15: Train Loss = 0.0009775356156751513\n",
      "Epoch 15: Validation Loss = 0.0010049416083765784\n",
      "Epoch 16: Train Loss = 0.0009775356156751513\n",
      "Epoch 16: Validation Loss = 0.0010049416083765784\n",
      "Epoch 17: Train Loss = 0.0009775356156751513\n",
      "Epoch 17: Validation Loss = 0.001004941608310303\n",
      "Epoch 18: Train Loss = 0.0009775356156751513\n",
      "Epoch 18: Validation Loss = 0.001004941608310303\n",
      "Epoch 19: Train Loss = 0.0009775356156751513\n",
      "Epoch 19: Validation Loss = 0.001004941608310303\n",
      "Epoch 20: Train Loss = 0.0009775356156751513\n",
      "Epoch 20: Validation Loss = 0.001004941608310303\n",
      "Epoch 21: Train Loss = 0.0009775356156751513\n",
      "Epoch 21: Validation Loss = 0.001004941608310303\n",
      "Epoch 22: Train Loss = 0.0009775356156751513\n",
      "Epoch 22: Validation Loss = 0.001004941608310303\n",
      "Epoch 23: Train Loss = 0.0009775356156751513\n",
      "Epoch 23: Validation Loss = 0.001004941608310303\n",
      "Epoch 24: Train Loss = 0.0009775356156751513\n",
      "Epoch 24: Validation Loss = 0.001004941608310303\n",
      "Epoch 25: Train Loss = 0.0009775356156751513\n",
      "Epoch 25: Validation Loss = 0.001004941608310303\n",
      "Epoch 26: Train Loss = 0.0009775356156751513\n",
      "Epoch 26: Validation Loss = 0.001004941608310303\n",
      "Epoch 27: Train Loss = 0.0009775356156751513\n",
      "Epoch 27: Validation Loss = 0.001004941608310303\n",
      "Epoch 28: Train Loss = 0.0009775356156751513\n",
      "Epoch 28: Validation Loss = 0.001004941608310303\n",
      "Epoch 29: Train Loss = 0.0009775356156751513\n",
      "Epoch 29: Validation Loss = 0.001004941608310303\n",
      "Epoch 30: Train Loss = 0.0009775356156751513\n",
      "Epoch 30: Validation Loss = 0.001004941608310303\n"
     ]
    },
    {
     "data": {
      "application/vnd.jupyter.widget-view+json": {
       "model_id": "65751de5d8864b78a1b374680cea6fe0",
       "version_major": 2,
       "version_minor": 0
      },
      "text/plain": [
       "VBox(children=(Label(value='0.004 MB of 0.004 MB uploaded\\r'), FloatProgress(value=1.0, max=1.0)))"
      ]
     },
     "metadata": {},
     "output_type": "display_data"
    },
    {
     "data": {
      "text/html": [
       "<style>\n",
       "    table.wandb td:nth-child(1) { padding: 0 10px; text-align: left ; width: auto;} td:nth-child(2) {text-align: left ; width: 100%}\n",
       "    .wandb-row { display: flex; flex-direction: row; flex-wrap: wrap; justify-content: flex-start; width: 100% }\n",
       "    .wandb-col { display: flex; flex-direction: column; flex-basis: 100%; flex: 1; padding: 10px; }\n",
       "    </style>\n",
       "<div class=\"wandb-row\"><div class=\"wandb-col\"><h3>Run history:</h3><br/><table class=\"wandb\"><tr><td>step</td><td>▁▁▁▁▂▂▂▂▂▂▃▃▃▃▃▄▄▄▄▄▅▅▅▅▅▅▆▆▆▆▆▇▇▇▇▇████</td></tr><tr><td>train_loss</td><td>█▂▁▁▁▁▁▁▁▁▁▁▁▁▁▁▁▁▁▁▁▁▁▁▁▁▁▁▁▁</td></tr><tr><td>validation_loss</td><td>▁█████████████████████████████</td></tr></table><br/></div><div class=\"wandb-col\"><h3>Run summary:</h3><br/><table class=\"wandb\"><tr><td>step</td><td>30</td></tr><tr><td>train_loss</td><td>0.00098</td></tr><tr><td>validation_loss</td><td>0.001</td></tr></table><br/></div></div>"
      ],
      "text/plain": [
       "<IPython.core.display.HTML object>"
      ]
     },
     "metadata": {},
     "output_type": "display_data"
    },
    {
     "data": {
      "text/html": [
       " View run <strong style=\"color:#cdcd00\">BA part3</strong> at: <a href='https://wandb.ai/s230027/BA/runs/5gevvmfb' target=\"_blank\">https://wandb.ai/s230027/BA/runs/5gevvmfb</a><br/>Synced 5 W&B file(s), 0 media file(s), 0 artifact file(s) and 0 other file(s)"
      ],
      "text/plain": [
       "<IPython.core.display.HTML object>"
      ]
     },
     "metadata": {},
     "output_type": "display_data"
    },
    {
     "data": {
      "text/html": [
       "Find logs at: <code>./wandb/run-20231129_161712-5gevvmfb/logs</code>"
      ],
      "text/plain": [
       "<IPython.core.display.HTML object>"
      ]
     },
     "metadata": {},
     "output_type": "display_data"
    },
    {
     "name": "stdout",
     "output_type": "stream",
     "text": [
      "Finished training.\n"
     ]
    }
   ],
   "source": [
    "max_epoches = 30\n",
    "no_improvement_count = 0\n",
    "i = 0\n",
    "j = 0\n",
    "\n",
    "iter = []\n",
    "train_loss,valid_loss = [],[]\n",
    "train_iter,validation_iter = [],[]\n",
    "train_loss_batch_record,valid_loss_batch_record=[],[]\n",
    "for epoch in range(max_epoches):\n",
    "    #train model \n",
    "    train_loss_batch = []\n",
    "    model.train()\n",
    "    for inputs, labels in train_data:\n",
    "        inputs,labels = data_utils.get_variable(inputs),data_utils.get_variable(labels)\n",
    "        optimizer.zero_grad()   \n",
    "        outputs = model(inputs).to(torch.float32)\n",
    "        labels = labels.to(torch.float32)\n",
    "        loss = criterion(outputs, labels)\n",
    "        train_loss_batch.append(data_utils.get_numpy(loss))\n",
    "        train_loss_batch_record.append(data_utils.get_numpy(loss))\n",
    "        loss.backward()\n",
    "        optimizer.step()\n",
    "        train_iter.append(i+1)\n",
    "        i += 1\n",
    "    train_loss.append(np.mean(train_loss_batch))\n",
    "\n",
    "    # validation model\n",
    "    model.eval()  \n",
    "    valid_loss_batch = []\n",
    "    with torch.no_grad():\n",
    "        for inputs, labels in validation_data:\n",
    "            inputs,labels = data_utils.get_variable(inputs),data_utils.get_variable(labels)\n",
    "            outputs = model(inputs)\n",
    "            loss = criterion(outputs, labels)\n",
    "           \n",
    "            valid_loss_batch.append(data_utils.get_numpy(loss))\n",
    "            \n",
    "            valid_loss_batch_record.append(data_utils.get_numpy(loss))\n",
    "           \n",
    "            validation_iter.append(j+1)\n",
    "            j += 1\n",
    "\n",
    "    valid_loss.append(np.mean(valid_loss_batch))\n",
    "\n",
    "    iter.append(epoch+1)\n",
    "\n",
    "    #print the each epoch\n",
    "    print(f\"Epoch {epoch+1}: Train Loss = {train_loss[-1]}\")\n",
    "    print(f\"Epoch {epoch+1}: Validation Loss = {valid_loss[-1]}\")\n",
    "\n",
    "\n",
    "# record loss and acc \n",
    "with open('/work3/s230027/BA/result/training_metrics_epoch.csv', 'w', newline='') as file:\n",
    "    writer = csv.writer(file)\n",
    "    writer.writerow(['Epoch', 'Train Loss', 'Valid Loss']) \n",
    "    for epoch, t_loss, v_loss in zip(iter, train_loss, valid_loss):\n",
    "        writer.writerow([epoch, t_loss, v_loss])  \n",
    "\n",
    "with open('/work3/s230027/BA/result/train_lossbatch.csv', 'w', newline='') as file:\n",
    "    writer = csv.writer(file)\n",
    "    writer.writerow(['Epoch', 'Train Loss'])  \n",
    "    for epoch, t_loss in zip(train_iter, train_loss_batch_record):\n",
    "        writer.writerow([epoch, t_loss])\n",
    "\n",
    "with open('/work3/s230027/BA/result/validation_lossbatch.csv', 'w', newline='') as file:\n",
    "    writer = csv.writer(file)\n",
    "    writer.writerow(['Epoch', 'Validation Loss'])  \n",
    "    for epoch, v_loss in zip(validation_iter, valid_loss_batch_record):\n",
    "        writer.writerow([epoch, v_loss])         \n",
    "print(\"Finished training.\")\n",
    "#save the final model  \n",
    "torch.save(model.state_dict(), '/work3/s230027/BA/result/final_model_lr0.001_weightdecay0.01.pth')\n"
   ]
  },
  {
   "cell_type": "markdown",
   "id": "19e5c4fc",
   "metadata": {},
   "source": [
    "<img src=\"./train_loss.png\" alt=\"train_loss\" height=\"200\"/> <img src=\"./validation_loss.png\" alt=\"validation_loss\" height=\"200\"/>\n",
    "\n"
   ]
  },
  {
   "cell_type": "markdown",
   "id": "a940ed61",
   "metadata": {},
   "source": [
    "#### Test The Model"
   ]
  },
  {
   "cell_type": "code",
   "execution_count": 21,
   "id": "004a1983",
   "metadata": {},
   "outputs": [
    {
     "name": "stdout",
     "output_type": "stream",
     "text": [
      "Test Loss: 0.0011683255646955236\n"
     ]
    }
   ],
   "source": [
    "model.load_state_dict(torch.load('/work3/s230027/BA/result/final_model_lr0.001_weightdecay0.01.pth'))\n",
    "\n",
    "test_loss_record = []\n",
    "with torch.no_grad():\n",
    "    model.eval()  \n",
    "    for inputs, labels in test_data:\n",
    "        inputs,labels = data_utils.get_variable(inputs),data_utils.get_variable(labels)\n",
    "        outputs = model(inputs)\n",
    "        criterion = torch.nn.MSELoss()  \n",
    "        test_loss = criterion(outputs, labels)\n",
    "        test_loss_record.append(test_loss.item())\n",
    "print(\"Test Loss:\",np.mean(test_loss_record))"
   ]
  },
  {
   "cell_type": "markdown",
   "id": "73fcf0b7",
   "metadata": {},
   "source": [
    "## 4. Conclusion"
   ]
  },
  {
   "cell_type": "markdown",
   "id": "d1e664d0",
   "metadata": {},
   "source": [
    "Each section of our work is presented with conclusions and specific findings. Please review the comments above if you want more detailed explanation. Here we would like to skip through all the results we got.\n",
    "\n",
    "Overall, the first conclusion is shown in the visualizations from the first section. Especially, picture 3 have provided insights for our Exploratory Component.\n",
    "\n",
    "For the Prediction Challenge section, all models displayed good performance with all R2 values above 0.7.\n",
    "\n",
    "In the Exploratory Component section, the models performed very well, with low training, validation, and test losses, and no overfitting was observed. However, further investigation into potential underfitting is needed."
   ]
  }
 ],
 "metadata": {
  "kernelspec": {
   "display_name": "Python 3 (ipykernel)",
   "language": "python",
   "name": "python3"
  },
  "language_info": {
   "codemirror_mode": {
    "name": "ipython",
    "version": 3
   },
   "file_extension": ".py",
   "mimetype": "text/x-python",
   "name": "python",
   "nbconvert_exporter": "python",
   "pygments_lexer": "ipython3",
   "version": "3.11.4"
  }
 },
 "nbformat": 4,
 "nbformat_minor": 5
}
